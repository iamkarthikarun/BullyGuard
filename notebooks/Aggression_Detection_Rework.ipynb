{
 "cells": [
  {
   "cell_type": "markdown",
   "metadata": {},
   "source": [
    "### Imports"
   ]
  },
  {
   "cell_type": "code",
   "execution_count": 125,
   "metadata": {},
   "outputs": [
    {
     "data": {
      "text/plain": [
       "True"
      ]
     },
     "execution_count": 125,
     "metadata": {},
     "output_type": "execute_result"
    }
   ],
   "source": [
    "import hashlib\n",
    "import os\n",
    "import re\n",
    "import time\n",
    "from collections import Counter\n",
    "from datetime import datetime\n",
    "\n",
    "import contractions\n",
    "import matplotlib.pyplot as plt\n",
    "import nlpaug.augmenter.word as nlpaw\n",
    "import nltk\n",
    "import numpy as np\n",
    "import onnx\n",
    "import onnxruntime as ort\n",
    "import pandas as pd\n",
    "import seaborn as sns\n",
    "import torch\n",
    "import torch.nn as nn\n",
    "\n",
    "# from datasets import Dataset, DatasetDict, load_dataset\n",
    "from dotenv import load_dotenv\n",
    "from nltk.corpus import stopwords\n",
    "from nltk.stem import WordNetLemmatizer\n",
    "from nltk.tokenize import word_tokenize\n",
    "from sklearn.feature_extraction.text import CountVectorizer\n",
    "from sklearn.metrics import classification_report, confusion_matrix, f1_score\n",
    "from sklearn.model_selection import train_test_split\n",
    "from sklearn.utils import resample\n",
    "from sklearn.utils.class_weight import compute_class_weight\n",
    "from torch.nn import functional as F\n",
    "from torch.utils.data import DataLoader, Dataset\n",
    "from torchvision.ops import sigmoid_focal_loss\n",
    "from tqdm import tqdm\n",
    "from transformers import AutoModel, AutoModelForSequenceClassification, AutoTokenizer\n",
    "\n",
    "from adopt import ADOPT\n",
    "\n",
    "load_dotenv()\n"
   ]
  },
  {
   "cell_type": "code",
   "execution_count": 3,
   "metadata": {},
   "outputs": [
    {
     "name": "stderr",
     "output_type": "stream",
     "text": [
      "[nltk_data] Downloading package punkt to /root/nltk_data...\n",
      "[nltk_data]   Package punkt is already up-to-date!\n",
      "[nltk_data] Downloading package stopwords to /root/nltk_data...\n",
      "[nltk_data]   Package stopwords is already up-to-date!\n",
      "[nltk_data] Downloading package wordnet to /root/nltk_data...\n",
      "[nltk_data]   Package wordnet is already up-to-date!\n",
      "[nltk_data] Downloading package omw-1.4 to /root/nltk_data...\n",
      "[nltk_data]   Package omw-1.4 is already up-to-date!\n",
      "[nltk_data] Downloading package punkt_tab to /root/nltk_data...\n",
      "[nltk_data]   Package punkt_tab is already up-to-date!\n"
     ]
    },
    {
     "data": {
      "text/plain": [
       "True"
      ]
     },
     "execution_count": 3,
     "metadata": {},
     "output_type": "execute_result"
    }
   ],
   "source": [
    "nltk.download('punkt')\n",
    "nltk.download('stopwords')\n",
    "nltk.download('wordnet')\n",
    "nltk.download('omw-1.4')\n",
    "nltk.download('punkt_tab')"
   ]
  },
  {
   "cell_type": "markdown",
   "metadata": {},
   "source": [
    "### Load the dataset"
   ]
  },
  {
   "cell_type": "markdown",
   "metadata": {},
   "source": [
    "#### You can find this dataset on Kaggle uploaded by me. It is a collated dataset from a few different sources. https://www.kaggle.com/datasets/hawkeye2704/cyberbullying-dataset"
   ]
  },
  {
   "cell_type": "code",
   "execution_count": 4,
   "metadata": {},
   "outputs": [],
   "source": [
    "df = pd.read_csv(r\"./data/Collated_Dataset.csv\")"
   ]
  },
  {
   "cell_type": "code",
   "execution_count": 5,
   "metadata": {},
   "outputs": [],
   "source": [
    "df = df.dropna()"
   ]
  },
  {
   "cell_type": "code",
   "execution_count": 6,
   "metadata": {},
   "outputs": [],
   "source": [
    "df.oh_label = df.oh_label.astype('int')"
   ]
  },
  {
   "cell_type": "markdown",
   "metadata": {},
   "source": [
    "## Basic Data Exploration and Cleaning"
   ]
  },
  {
   "cell_type": "code",
   "execution_count": 6,
   "metadata": {},
   "outputs": [],
   "source": [
    "def show_basic_stats(df):\n",
    "    print(f\"Total samples: {len(df)}\")\n",
    "    print(\"\\nClass distribution:\")\n",
    "    print(df['oh_label'].value_counts(normalize=True) * 100)\n",
    "    \n",
    "    df['text_length'] = df['Text'].str.len()\n",
    "    df['word_count'] = df['Text'].str.split().str.len()\n",
    "    \n",
    "    print(\"\\nText length statistics:\")\n",
    "    print(df['text_length'].describe())\n",
    "    print(\"\\nWord count statistics:\")\n",
    "    print(df['word_count'].describe())"
   ]
  },
  {
   "cell_type": "code",
   "execution_count": 8,
   "metadata": {},
   "outputs": [
    {
     "name": "stdout",
     "output_type": "stream",
     "text": [
      "Total samples: 251800\n",
      "\n",
      "Class distribution:\n",
      "oh_label\n",
      "0    85.890389\n",
      "1    14.109611\n",
      "Name: proportion, dtype: float64\n",
      "\n",
      "Text length statistics:\n",
      "count    251800.000000\n",
      "mean        371.938550\n",
      "std         667.296813\n",
      "min           1.000000\n",
      "25%          82.000000\n",
      "50%         166.000000\n",
      "75%         387.000000\n",
      "max       20030.000000\n",
      "Name: text_length, dtype: float64\n",
      "\n",
      "Word count statistics:\n",
      "count    251800.000000\n",
      "mean         63.512236\n",
      "std         113.069698\n",
      "min           0.000000\n",
      "25%          14.000000\n",
      "50%          29.000000\n",
      "75%          67.000000\n",
      "max        2832.000000\n",
      "Name: word_count, dtype: float64\n"
     ]
    }
   ],
   "source": [
    "show_basic_stats(df)"
   ]
  },
  {
   "cell_type": "markdown",
   "metadata": {},
   "source": [
    "We can see there is a huge class imbalance in the dataset. Will be actioned upon later."
   ]
  },
  {
   "cell_type": "code",
   "execution_count": 12,
   "metadata": {},
   "outputs": [],
   "source": [
    "def plot_length_distributions(df):\n",
    "    fig, (ax1, ax2) = plt.subplots(1, 2, figsize=(15, 5))\n",
    "    sns.boxplot(x='oh_label', y='text_length', data=df, ax=ax1)\n",
    "    ax1.set_title('Text Length Distribution by Class')\n",
    "    ax1.set_ylim(0, df['text_length'].quantile(0.95))\n",
    "    \n",
    "    sns.boxplot(x='oh_label', y='word_count', data=df, ax=ax2)\n",
    "    ax2.set_title('Word Count Distribution by Class')\n",
    "    ax2.set_ylim(0, df['word_count'].quantile(0.95))\n",
    "    \n",
    "    plt.tight_layout()\n",
    "    plt.show()"
   ]
  },
  {
   "cell_type": "code",
   "execution_count": 13,
   "metadata": {},
   "outputs": [
    {
     "data": {
      "image/png": "[encoded data removed]",
      "text/plain": [
       "<Figure size 1500x500 with 2 Axes>"
      ]
     },
     "metadata": {},
     "output_type": "display_data"
    }
   ],
   "source": [
    "plot_length_distributions(df)"
   ]
  },
  {
   "cell_type": "code",
   "execution_count": 14,
   "metadata": {},
   "outputs": [],
   "source": [
    "def analyze_common_words(df):\n",
    "\n",
    "    toxic_words = ' '.join(df[df['oh_label'] == 1]['Text'].str.lower()).split()\n",
    "    nontoxic_words = ' '.join(df[df['oh_label'] == 0]['Text'].str.lower()).split()\n",
    "\n",
    "    toxic_freq = Counter(toxic_words).most_common(20)\n",
    "    nontoxic_freq = Counter(nontoxic_words).most_common(20)\n",
    "    \n",
    "    fig, (ax1, ax2) = plt.subplots(1, 2, figsize=(15, 6))\n",
    "    words, counts = zip(*toxic_freq)\n",
    "    ax1.barh(words, counts)\n",
    "    ax1.set_title('Most Common Words in Toxic Comments')\n",
    "    \n",
    "    words, counts = zip(*nontoxic_freq)\n",
    "    ax2.barh(words, counts)\n",
    "    ax2.set_title('Most Common Words in Non-toxic Comments')\n",
    "    \n",
    "    plt.tight_layout()\n",
    "    plt.show()"
   ]
  },
  {
   "cell_type": "code",
   "execution_count": 15,
   "metadata": {},
   "outputs": [
    {
     "data": {
      "image/png": "[encoded data removed]",
      "text/plain": [
       "<Figure size 1500x600 with 2 Axes>"
      ]
     },
     "metadata": {},
     "output_type": "display_data"
    }
   ],
   "source": [
    "analyze_common_words(df)"
   ]
  },
  {
   "cell_type": "markdown",
   "metadata": {},
   "source": [
    "With stopwords not removed, there is not much we can make out of this, we will maybe try it again once we do NLP specific cleaning later."
   ]
  },
  {
   "cell_type": "code",
   "execution_count": 16,
   "metadata": {},
   "outputs": [],
   "source": [
    "def check_data_quality(df):\n",
    "    print(\"Data Quality Metrics:\")\n",
    "    print(f\"Empty texts: {(df['Text'].str.strip() == '').sum()}\")\n",
    "    print(f\"Very short texts (<5 chars): {(df['Text'].str.len() < 5).sum()}\")\n",
    "    print(f\"Duplicate texts: {df['Text'].duplicated().sum()}\")"
   ]
  },
  {
   "cell_type": "code",
   "execution_count": 17,
   "metadata": {},
   "outputs": [
    {
     "name": "stdout",
     "output_type": "stream",
     "text": [
      "Data Quality Metrics:\n",
      "Empty texts: 4\n",
      "Very short texts (<5 chars): 109\n",
      "Duplicate texts: 11815\n"
     ]
    }
   ],
   "source": [
    "check_data_quality(df)"
   ]
  },
  {
   "cell_type": "markdown",
   "metadata": {},
   "source": [
    "That is not very good and let's action it real quick"
   ]
  },
  {
   "cell_type": "code",
   "execution_count": 7,
   "metadata": {},
   "outputs": [
    {
     "name": "stdout",
     "output_type": "stream",
     "text": [
      "Original dataset size: 251800\n",
      "After removing short/empty texts: 251499\n",
      "Final size after removing duplicates: 239824\n",
      "\n",
      "Class distribution after cleaning:\n",
      "oh_label\n",
      "0    0.885\n",
      "1    0.115\n",
      "Name: proportion, dtype: float64\n"
     ]
    }
   ],
   "source": [
    "df_cleaned = df[df['Text'].str.strip().str.len() >= 5].copy()\n",
    "df_cleaned = df_cleaned.drop_duplicates(subset=['Text']).reset_index(drop=True)\n",
    "\n",
    "print(\"Original dataset size:\", len(df))\n",
    "print(\"After removing short/empty texts:\", len(df[df['Text'].str.strip().str.len() >= 5]))\n",
    "print(\"Final size after removing duplicates:\", len(df_cleaned))\n",
    "print(\"\\nClass distribution after cleaning:\")\n",
    "print(df_cleaned['oh_label'].value_counts(normalize=True).round(3))"
   ]
  },
  {
   "cell_type": "code",
   "execution_count": 8,
   "metadata": {},
   "outputs": [],
   "source": [
    "df = df_cleaned.copy()"
   ]
  },
  {
   "cell_type": "code",
   "execution_count": 20,
   "metadata": {},
   "outputs": [],
   "source": [
    "def analyze_ngrams(df, class_label, n=1, top_k=15):\n",
    "    # Get texts for specific class (toxic or non-toxic)\n",
    "    texts = df[df['oh_label'] == class_label]['Text'].values\n",
    "    \n",
    "    # Create and fit CountVectorizer\n",
    "    vectorizer = CountVectorizer(ngram_range=(n,n), \n",
    "                               stop_words='english',\n",
    "                               max_features=top_k)\n",
    "    ngram_counts = vectorizer.fit_transform(texts)\n",
    "    \n",
    "    # Get frequencies\n",
    "    sum_words = ngram_counts.sum(axis=0).A1\n",
    "    words_freq = list(zip(vectorizer.get_feature_names_out(), sum_words))\n",
    "    return sorted(words_freq, key=lambda x: x[1], reverse=True)\n",
    "\n",
    "def plot_ngrams_comparison(df):\n",
    "    fig, axes = plt.subplots(2, 3, figsize=(20, 10))\n",
    "    \n",
    "    for i, n in enumerate([1, 2, 3]):\n",
    "        # Toxic ngrams\n",
    "        toxic_ngrams = analyze_ngrams(df, 1, n)\n",
    "        words, counts = zip(*toxic_ngrams)\n",
    "        axes[0, i].barh(words, counts)\n",
    "        axes[0, i].set_title(f'Top {n}-grams in Toxic Comments')\n",
    "        \n",
    "        # Non-toxic ngrams\n",
    "        nontoxic_ngrams = analyze_ngrams(df, 0, n)\n",
    "        words, counts = zip(*nontoxic_ngrams)\n",
    "        axes[1, i].barh(words, counts)\n",
    "        axes[1, i].set_title(f'Top {n}-grams in Non-toxic Comments')\n",
    "    \n",
    "    plt.tight_layout()\n",
    "    plt.show()"
   ]
  },
  {
   "cell_type": "code",
   "execution_count": 21,
   "metadata": {},
   "outputs": [
    {
     "data": {
      "image/png": "[encoded data removed]",
      "text/plain": [
       "<Figure size 2000x1000 with 6 Axes>"
      ]
     },
     "metadata": {},
     "output_type": "display_data"
    }
   ],
   "source": [
    "plot_ngrams_comparison(df)"
   ]
  },
  {
   "cell_type": "markdown",
   "metadata": {},
   "source": [
    "Some level of hate there ! 😐"
   ]
  },
  {
   "cell_type": "code",
   "execution_count": 24,
   "metadata": {},
   "outputs": [],
   "source": [
    "def analyze_special_chars(df):\n",
    "    # Calculate percentages of texts containing each pattern\n",
    "    patterns = {\n",
    "        'Emojis': r'[\\U0001F300-\\U0001F9FF]',\n",
    "        'Special Characters (!@#$%)': r'[!@#$%^&*(),.?\":{}|<>]',\n",
    "        'UPPERCASE Words': r'\\b[A-Z]{2,}\\b'\n",
    "    }\n",
    "    \n",
    "    results = pd.DataFrame(columns=['Pattern', 'Toxic_Percentage', 'NonToxic_Percentage', 'Interpretation'])\n",
    "    \n",
    "    for pattern_name, pattern in patterns.items():\n",
    "        # Percentage of texts containing the pattern\n",
    "        toxic_pct = (df[df['oh_label'] == 1]['Text'].str.contains(pattern, regex=True).mean() * 100)\n",
    "        nontoxic_pct = (df[df['oh_label'] == 0]['Text'].str.contains(pattern, regex=True).mean() * 100)\n",
    "        \n",
    "        # Create interpretation\n",
    "        difference = toxic_pct - nontoxic_pct\n",
    "        if abs(difference) < 1:\n",
    "            interpretation = \"Similar usage in both classes\"\n",
    "        else:\n",
    "            interpretation = f\"{'More' if difference > 0 else 'Less'} common in toxic texts by {abs(difference):.1f}%\"\n",
    "        \n",
    "        results.loc[len(results)] = [pattern_name, toxic_pct, nontoxic_pct, interpretation]\n",
    "    \n",
    "    # Print formatted results\n",
    "    print(\"Special Character Usage Analysis\")\n",
    "    print(\"-\" * 80)\n",
    "    for _, row in results.iterrows():\n",
    "        print(f\"\\n{row['Pattern']}:\")\n",
    "        print(f\"• Found in {row['Toxic_Percentage']:.1f}% of toxic texts\")\n",
    "        print(f\"• Found in {row['NonToxic_Percentage']:.1f}% of non-toxic texts\")\n",
    "        print(f\"• {row['Interpretation']}\")\n",
    "    \n",
    "    # Visualization\n",
    "    plt.figure(figsize=(10, 6))\n",
    "    x = range(len(patterns))\n",
    "    width = 0.35\n",
    "    \n",
    "    plt.bar([i - width/2 for i in x], results['Toxic_Percentage'], \n",
    "            width, label='Toxic', color='salmon')\n",
    "    plt.bar([i + width/2 for i in x], results['NonToxic_Percentage'], \n",
    "            width, label='Non-toxic', color='lightblue')\n",
    "    \n",
    "    plt.title('Pattern Usage in Toxic vs Non-toxic Texts')\n",
    "    plt.xlabel('Pattern Type')\n",
    "    plt.ylabel('Percentage of Texts (%)')\n",
    "    plt.xticks(x, patterns.keys(), rotation=45)\n",
    "    plt.legend()\n",
    "    \n",
    "    plt.tight_layout()\n",
    "    plt.show()\n",
    "    \n",
    "    return results"
   ]
  },
  {
   "cell_type": "code",
   "execution_count": 23,
   "metadata": {},
   "outputs": [
    {
     "name": "stdout",
     "output_type": "stream",
     "text": [
      "Special Character Usage Analysis\n",
      "--------------------------------------------------------------------------------\n",
      "\n",
      "Emojis:\n",
      "• Found in 0.2% of toxic texts\n",
      "• Found in 0.1% of non-toxic texts\n",
      "• Similar usage in both classes\n",
      "\n",
      "Special Characters (!@#$%):\n",
      "• Found in 92.1% of toxic texts\n",
      "• Found in 97.0% of non-toxic texts\n",
      "• Less common in toxic texts by 4.9%\n",
      "\n",
      "UPPERCASE Words:\n",
      "• Found in 36.6% of toxic texts\n",
      "• Found in 33.2% of non-toxic texts\n",
      "• More common in toxic texts by 3.4%\n"
     ]
    },
    {
     "data": {
      "image/png": "[encoded data removed]",
      "text/plain": [
       "<Figure size 1000x600 with 1 Axes>"
      ]
     },
     "metadata": {},
     "output_type": "display_data"
    }
   ],
   "source": [
    "results = analyze_special_chars(df)"
   ]
  },
  {
   "cell_type": "markdown",
   "metadata": {},
   "source": [
    "* Since this is done with a collated dataset from various sources, only one of them might have emojis (that too sparsely) and that reflects here. \n",
    "* Special characters are present in a lot of tweets, might denote something like yelling or cussing. \n",
    "* Uppercase words are also considerably present indicating shouting in the internet slang."
   ]
  },
  {
   "cell_type": "code",
   "execution_count": 9,
   "metadata": {},
   "outputs": [],
   "source": [
    "def preprocess_text(df, text_col='Text'):\n",
    "    df = df.copy()\n",
    "    \n",
    "    def clean_text(text):\n",
    "        # Expand contractions (e.g., \"don't\" -> \"do not\")\n",
    "        text = contractions.fix(str(text))\n",
    "        text = text.lower()\n",
    "        text = re.sub(r'http\\S+|www\\S+|https\\S+', '', text, flags=re.MULTILINE)\n",
    "        text = re.sub(r'[\\U0001F300-\\U0001F9FF]', '', text)\n",
    "        text = re.sub(r'[^a-zA-Z\\s]', '', text)\n",
    "        text = ' '.join(text.split())\n",
    "        return text\n",
    "    \n",
    "    lemmatizer = WordNetLemmatizer()\n",
    "    stop_words = set(stopwords.words('english'))\n",
    "    \n",
    "    custom_stops = {'rt', 'via', 'amp', 'like', 'just'}\n",
    "    stop_words.update(custom_stops)\n",
    "    \n",
    "    print(\"Starting preprocessing pipeline...\")\n",
    "    \n",
    "    df['cleaned_text'] = df[text_col].apply(clean_text)\n",
    "    print(\"Basic cleaning completed\")\n",
    "    \n",
    "    df['tokens'] = df['cleaned_text'].apply(word_tokenize)\n",
    "    print(\"Tokenization completed\")\n",
    "    \n",
    "    df['processed_text'] = df['tokens'].apply(\n",
    "        lambda tokens: ' '.join([\n",
    "            lemmatizer.lemmatize(word) \n",
    "            for word in tokens \n",
    "            if word not in stop_words and len(word) > 2\n",
    "        ])\n",
    "    )\n",
    "    print(\"Stopword removal and lemmatization completed\")\n",
    "    \n",
    "    df = df[df['processed_text'].str.strip() != '']\n",
    "    \n",
    "    return df"
   ]
  },
  {
   "cell_type": "code",
   "execution_count": 10,
   "metadata": {},
   "outputs": [
    {
     "name": "stdout",
     "output_type": "stream",
     "text": [
      "Starting preprocessing pipeline...\n",
      "Basic cleaning completed\n",
      "Tokenization completed\n",
      "Stopword removal and lemmatization completed\n"
     ]
    }
   ],
   "source": [
    "processed_df = preprocess_text(df)"
   ]
  },
  {
   "cell_type": "code",
   "execution_count": 11,
   "metadata": {},
   "outputs": [
    {
     "data": {
      "text/html": [
       "<div>\n",
       "<style scoped>\n",
       "    .dataframe tbody tr th:only-of-type {\n",
       "        vertical-align: middle;\n",
       "    }\n",
       "\n",
       "    .dataframe tbody tr th {\n",
       "        vertical-align: top;\n",
       "    }\n",
       "\n",
       "    .dataframe thead th {\n",
       "        text-align: right;\n",
       "    }\n",
       "</style>\n",
       "<table border=\"1\" class=\"dataframe\">\n",
       "  <thead>\n",
       "    <tr style=\"text-align: right;\">\n",
       "      <th></th>\n",
       "      <th>Original</th>\n",
       "      <th>Processed</th>\n",
       "    </tr>\n",
       "  </thead>\n",
       "  <tbody>\n",
       "    <tr>\n",
       "      <th>0</th>\n",
       "      <td>Get fucking real dude.</td>\n",
       "      <td>get fucking real dude</td>\n",
       "    </tr>\n",
       "    <tr>\n",
       "      <th>1</th>\n",
       "      <td>She is as dirty as they come  and that crook ...</td>\n",
       "      <td>dirty come crook rengel dems fucking corrupt j...</td>\n",
       "    </tr>\n",
       "    <tr>\n",
       "      <th>2</th>\n",
       "      <td>why did you fuck it up. I could do it all day...</td>\n",
       "      <td>fuck could day let hour ping later sched writi...</td>\n",
       "    </tr>\n",
       "    <tr>\n",
       "      <th>3</th>\n",
       "      <td>Dude they dont finish enclosing the fucking s...</td>\n",
       "      <td>dude finish enclosing fucking shower hate half...</td>\n",
       "    </tr>\n",
       "    <tr>\n",
       "      <th>4</th>\n",
       "      <td>WTF are you talking about Men? No men thats n...</td>\n",
       "      <td>wtf talking men men menage gay</td>\n",
       "    </tr>\n",
       "  </tbody>\n",
       "</table>\n",
       "</div>"
      ],
      "text/plain": [
       "                                            Original  \\\n",
       "0                             Get fucking real dude.   \n",
       "1   She is as dirty as they come  and that crook ...   \n",
       "2   why did you fuck it up. I could do it all day...   \n",
       "3   Dude they dont finish enclosing the fucking s...   \n",
       "4   WTF are you talking about Men? No men thats n...   \n",
       "\n",
       "                                           Processed  \n",
       "0                              get fucking real dude  \n",
       "1  dirty come crook rengel dems fucking corrupt j...  \n",
       "2  fuck could day let hour ping later sched writi...  \n",
       "3  dude finish enclosing fucking shower hate half...  \n",
       "4                     wtf talking men men menage gay  "
      ]
     },
     "metadata": {},
     "output_type": "display_data"
    }
   ],
   "source": [
    "comparison = pd.DataFrame({\n",
    "        'Original': processed_df['Text'].head(),\n",
    "        'Processed': processed_df['processed_text'].head()\n",
    "    })\n",
    "display(comparison)"
   ]
  },
  {
   "cell_type": "markdown",
   "metadata": {},
   "source": [
    "* There is an imbalance issue we're still yet to fix. Since this is text data, SMOTE cannot be directly applied here since it operates in the feature space and it would just explode given we have so much data and that too being text. The plan is to counter the imbalance by using custom weighted loss functions and imbalance-neutral evaluation metrics during the NN training. If that doesn't work, we will implement something close to SMOTE but not it."
   ]
  },
  {
   "cell_type": "markdown",
   "metadata": {},
   "source": [
    "## Saving the preprocessed dataset to HuggingFace"
   ]
  },
  {
   "cell_type": "code",
   "execution_count": 18,
   "metadata": {},
   "outputs": [
    {
     "name": "stderr",
     "output_type": "stream",
     "text": [
      "Creating parquet from Arrow format: 100%|██████████| 240/240 [00:01<00:00, 159.04ba/s]\n",
      "Uploading the dataset shards: 100%|██████████| 1/1 [00:24<00:00, 24.42s/it]\n"
     ]
    },
    {
     "name": "stdout",
     "output_type": "stream",
     "text": [
      "Dataset saved to Hugging Face Hub\n"
     ]
    }
   ],
   "source": [
    "hf_dataset = Dataset.from_pandas(processed_df)\n",
    "hf_dataset.push_to_hub(\n",
    "    \"Cyberbullying-Toxicity-Tweets\",\n",
    "    token=os.getenv(\"HUGGINGFACE_TOKEN\")\n",
    ")\n",
    "\n",
    "print(\"Dataset saved to Hugging Face Hub\")"
   ]
  },
  {
   "cell_type": "code",
   "execution_count": 20,
   "metadata": {},
   "outputs": [
    {
     "data": {
      "text/html": [
       "<div>\n",
       "<style scoped>\n",
       "    .dataframe tbody tr th:only-of-type {\n",
       "        vertical-align: middle;\n",
       "    }\n",
       "\n",
       "    .dataframe tbody tr th {\n",
       "        vertical-align: top;\n",
       "    }\n",
       "\n",
       "    .dataframe thead th {\n",
       "        text-align: right;\n",
       "    }\n",
       "</style>\n",
       "<table border=\"1\" class=\"dataframe\">\n",
       "  <thead>\n",
       "    <tr style=\"text-align: right;\">\n",
       "      <th></th>\n",
       "      <th>Text</th>\n",
       "      <th>oh_label</th>\n",
       "      <th>cleaned_text</th>\n",
       "      <th>tokens</th>\n",
       "      <th>processed_text</th>\n",
       "      <th>__index_level_0__</th>\n",
       "    </tr>\n",
       "  </thead>\n",
       "  <tbody>\n",
       "    <tr>\n",
       "      <th>0</th>\n",
       "      <td>Get fucking real dude.</td>\n",
       "      <td>1</td>\n",
       "      <td>get fucking real dude</td>\n",
       "      <td>[get, fucking, real, dude]</td>\n",
       "      <td>get fucking real dude</td>\n",
       "      <td>0</td>\n",
       "    </tr>\n",
       "    <tr>\n",
       "      <th>1</th>\n",
       "      <td>She is as dirty as they come  and that crook ...</td>\n",
       "      <td>1</td>\n",
       "      <td>she is as dirty as they come and that crook re...</td>\n",
       "      <td>[she, is, as, dirty, as, they, come, and, that...</td>\n",
       "      <td>dirty come crook rengel dems fucking corrupt j...</td>\n",
       "      <td>1</td>\n",
       "    </tr>\n",
       "    <tr>\n",
       "      <th>2</th>\n",
       "      <td>why did you fuck it up. I could do it all day...</td>\n",
       "      <td>1</td>\n",
       "      <td>why did you fuck it up i could do it all day t...</td>\n",
       "      <td>[why, did, you, fuck, it, up, i, could, do, it...</td>\n",
       "      <td>fuck could day let hour ping later sched writi...</td>\n",
       "      <td>2</td>\n",
       "    </tr>\n",
       "    <tr>\n",
       "      <th>3</th>\n",
       "      <td>Dude they dont finish enclosing the fucking s...</td>\n",
       "      <td>1</td>\n",
       "      <td>dude they do not finish enclosing the fucking ...</td>\n",
       "      <td>[dude, they, do, not, finish, enclosing, the, ...</td>\n",
       "      <td>dude finish enclosing fucking shower hate half...</td>\n",
       "      <td>3</td>\n",
       "    </tr>\n",
       "    <tr>\n",
       "      <th>4</th>\n",
       "      <td>WTF are you talking about Men? No men thats n...</td>\n",
       "      <td>1</td>\n",
       "      <td>wtf are you talking about men no men that is n...</td>\n",
       "      <td>[wtf, are, you, talking, about, men, no, men, ...</td>\n",
       "      <td>wtf talking men men menage gay</td>\n",
       "      <td>4</td>\n",
       "    </tr>\n",
       "    <tr>\n",
       "      <th>...</th>\n",
       "      <td>...</td>\n",
       "      <td>...</td>\n",
       "      <td>...</td>\n",
       "      <td>...</td>\n",
       "      <td>...</td>\n",
       "      <td>...</td>\n",
       "    </tr>\n",
       "    <tr>\n",
       "      <th>239460</th>\n",
       "      <td>@Vandaliser @sajid_fairooz @IsraeliRegime I'd ...</td>\n",
       "      <td>1</td>\n",
       "      <td>vandaliser sajidfairooz israeliregime i would ...</td>\n",
       "      <td>[vandaliser, sajidfairooz, israeliregime, i, w...</td>\n",
       "      <td>vandaliser sajidfairooz israeliregime would ra...</td>\n",
       "      <td>239819</td>\n",
       "    </tr>\n",
       "    <tr>\n",
       "      <th>239461</th>\n",
       "      <td>@hassanrahman11 @ToAllahWeReturn One Christ te...</td>\n",
       "      <td>1</td>\n",
       "      <td>hassanrahman toallahwereturn one christ terror...</td>\n",
       "      <td>[hassanrahman, toallahwereturn, one, christ, t...</td>\n",
       "      <td>hassanrahman toallahwereturn one christ terror...</td>\n",
       "      <td>239820</td>\n",
       "    </tr>\n",
       "    <tr>\n",
       "      <th>239462</th>\n",
       "      <td>@dankmtl @AAlwuhaib1977 @PeaceNotHate_ No assh...</td>\n",
       "      <td>1</td>\n",
       "      <td>dankmtl aalwuhaib peacenothate no asshole the ...</td>\n",
       "      <td>[dankmtl, aalwuhaib, peacenothate, no, asshole...</td>\n",
       "      <td>dankmtl aalwuhaib peacenothate asshole israeli...</td>\n",
       "      <td>239821</td>\n",
       "    </tr>\n",
       "    <tr>\n",
       "      <th>239463</th>\n",
       "      <td>Since 1/3 of all #Islam believes that people w...</td>\n",
       "      <td>1</td>\n",
       "      <td>since of all islam believes that people who le...</td>\n",
       "      <td>[since, of, all, islam, believes, that, people...</td>\n",
       "      <td>since islam belief people leave religion murde...</td>\n",
       "      <td>239822</td>\n",
       "    </tr>\n",
       "    <tr>\n",
       "      <th>239464</th>\n",
       "      <td>@sibelo76 Yes, all that Islam is making ISIS s...</td>\n",
       "      <td>1</td>\n",
       "      <td>sibelo yes all that islam is making isis so lo...</td>\n",
       "      <td>[sibelo, yes, all, that, islam, is, making, is...</td>\n",
       "      <td>sibelo yes islam making isi loving idiot</td>\n",
       "      <td>239823</td>\n",
       "    </tr>\n",
       "  </tbody>\n",
       "</table>\n",
       "<p>239465 rows × 6 columns</p>\n",
       "</div>"
      ],
      "text/plain": [
       "                                                     Text  oh_label  \\\n",
       "0                                  Get fucking real dude.         1   \n",
       "1        She is as dirty as they come  and that crook ...         1   \n",
       "2        why did you fuck it up. I could do it all day...         1   \n",
       "3        Dude they dont finish enclosing the fucking s...         1   \n",
       "4        WTF are you talking about Men? No men thats n...         1   \n",
       "...                                                   ...       ...   \n",
       "239460  @Vandaliser @sajid_fairooz @IsraeliRegime I'd ...         1   \n",
       "239461  @hassanrahman11 @ToAllahWeReturn One Christ te...         1   \n",
       "239462  @dankmtl @AAlwuhaib1977 @PeaceNotHate_ No assh...         1   \n",
       "239463  Since 1/3 of all #Islam believes that people w...         1   \n",
       "239464  @sibelo76 Yes, all that Islam is making ISIS s...         1   \n",
       "\n",
       "                                             cleaned_text  \\\n",
       "0                                   get fucking real dude   \n",
       "1       she is as dirty as they come and that crook re...   \n",
       "2       why did you fuck it up i could do it all day t...   \n",
       "3       dude they do not finish enclosing the fucking ...   \n",
       "4       wtf are you talking about men no men that is n...   \n",
       "...                                                   ...   \n",
       "239460  vandaliser sajidfairooz israeliregime i would ...   \n",
       "239461  hassanrahman toallahwereturn one christ terror...   \n",
       "239462  dankmtl aalwuhaib peacenothate no asshole the ...   \n",
       "239463  since of all islam believes that people who le...   \n",
       "239464  sibelo yes all that islam is making isis so lo...   \n",
       "\n",
       "                                                   tokens  \\\n",
       "0                              [get, fucking, real, dude]   \n",
       "1       [she, is, as, dirty, as, they, come, and, that...   \n",
       "2       [why, did, you, fuck, it, up, i, could, do, it...   \n",
       "3       [dude, they, do, not, finish, enclosing, the, ...   \n",
       "4       [wtf, are, you, talking, about, men, no, men, ...   \n",
       "...                                                   ...   \n",
       "239460  [vandaliser, sajidfairooz, israeliregime, i, w...   \n",
       "239461  [hassanrahman, toallahwereturn, one, christ, t...   \n",
       "239462  [dankmtl, aalwuhaib, peacenothate, no, asshole...   \n",
       "239463  [since, of, all, islam, believes, that, people...   \n",
       "239464  [sibelo, yes, all, that, islam, is, making, is...   \n",
       "\n",
       "                                           processed_text  __index_level_0__  \n",
       "0                                   get fucking real dude                  0  \n",
       "1       dirty come crook rengel dems fucking corrupt j...                  1  \n",
       "2       fuck could day let hour ping later sched writi...                  2  \n",
       "3       dude finish enclosing fucking shower hate half...                  3  \n",
       "4                          wtf talking men men menage gay                  4  \n",
       "...                                                   ...                ...  \n",
       "239460  vandaliser sajidfairooz israeliregime would ra...             239819  \n",
       "239461  hassanrahman toallahwereturn one christ terror...             239820  \n",
       "239462  dankmtl aalwuhaib peacenothate asshole israeli...             239821  \n",
       "239463  since islam belief people leave religion murde...             239822  \n",
       "239464           sibelo yes islam making isi loving idiot             239823  \n",
       "\n",
       "[239465 rows x 6 columns]"
      ]
     },
     "metadata": {},
     "output_type": "display_data"
    }
   ],
   "source": [
    "dataset = load_dataset(\"karthikarunr/Cyberbullying-Toxicity-Tweets\")\n",
    "processed_df = dataset['train'].to_pandas()\n",
    "display(processed_df)"
   ]
  },
  {
   "cell_type": "markdown",
   "metadata": {},
   "source": [
    "## Dataset Splitting"
   ]
  },
  {
   "cell_type": "code",
   "execution_count": 12,
   "metadata": {},
   "outputs": [
    {
     "data": {
      "text/plain": [
       "Index(['Text', 'oh_label', 'cleaned_text', 'tokens', 'processed_text'], dtype='object')"
      ]
     },
     "execution_count": 12,
     "metadata": {},
     "output_type": "execute_result"
    }
   ],
   "source": [
    "processed_df.columns"
   ]
  },
  {
   "cell_type": "code",
   "execution_count": 13,
   "metadata": {},
   "outputs": [],
   "source": [
    "df_final = processed_df[['processed_text', 'oh_label']].copy()"
   ]
  },
  {
   "cell_type": "code",
   "execution_count": 14,
   "metadata": {},
   "outputs": [],
   "source": [
    "# Stratified Splitting\n",
    "\n",
    "train_val_df, test_df = train_test_split(\n",
    "    df_final,\n",
    "    test_size=0.15,\n",
    "    random_state=42,\n",
    "    stratify=df_final['oh_label']\n",
    ")\n",
    "\n",
    "train_df, val_df = train_test_split(\n",
    "    train_val_df,\n",
    "    test_size=0.176,  # 0.176 * 0.85 = 0.15\n",
    "    random_state=42,\n",
    "    stratify=train_val_df['oh_label']\n",
    ")"
   ]
  },
  {
   "cell_type": "code",
   "execution_count": 15,
   "metadata": {},
   "outputs": [
    {
     "name": "stdout",
     "output_type": "stream",
     "text": [
      "Dataset splits:\n",
      "Train set: 167721 samples\n",
      "Validation set: 35824 samples\n",
      "Test set: 35920 samples\n",
      "\n",
      "Class distribution in splits:\n",
      "\n",
      "Train set:\n",
      "oh_label\n",
      "0    0.884982\n",
      "1    0.115018\n",
      "Name: proportion, dtype: float64\n",
      "\n",
      "Validation set:\n",
      "oh_label\n",
      "0    0.884993\n",
      "1    0.115007\n",
      "Name: proportion, dtype: float64\n",
      "\n",
      "Test set:\n",
      "oh_label\n",
      "0    0.884994\n",
      "1    0.115006\n",
      "Name: proportion, dtype: float64\n"
     ]
    }
   ],
   "source": [
    "print(\"Dataset splits:\")\n",
    "print(f\"Train set: {len(train_df)} samples\")\n",
    "print(f\"Validation set: {len(val_df)} samples\")\n",
    "print(f\"Test set: {len(test_df)} samples\")\n",
    "\n",
    "print(\"\\nClass distribution in splits:\")\n",
    "print(\"\\nTrain set:\")\n",
    "print(train_df['oh_label'].value_counts(normalize=True))\n",
    "print(\"\\nValidation set:\")\n",
    "print(val_df['oh_label'].value_counts(normalize=True))\n",
    "print(\"\\nTest set:\")\n",
    "print(test_df['oh_label'].value_counts(normalize=True))"
   ]
  },
  {
   "cell_type": "markdown",
   "metadata": {},
   "source": [
    "* A good split with equal distributions of the target class in all different sets has been achieved. We will see how it goes during the training and come back to this if it goes south."
   ]
  },
  {
   "cell_type": "code",
   "execution_count": 16,
   "metadata": {},
   "outputs": [
    {
     "name": "stdout",
     "output_type": "stream",
     "text": [
      "\n",
      "Sample from train set:\n",
      "                                      processed_text  oh_label\n",
      "0                                  take mom get rich         0\n",
      "1  disagree general point cptnono always think fu...         0\n"
     ]
    }
   ],
   "source": [
    "train_df = train_df.reset_index(drop=True)\n",
    "val_df = val_df.reset_index(drop=True)\n",
    "test_df = test_df.reset_index(drop=True)\n",
    "\n",
    "print(\"\\nSample from train set:\")\n",
    "print(train_df.head(2))\n"
   ]
  },
  {
   "cell_type": "markdown",
   "metadata": {},
   "source": [
    "## Model Loading"
   ]
  },
  {
   "cell_type": "markdown",
   "metadata": {},
   "source": [
    "* The other notebook in this repo (which was a 2020 work) focused on solving this problem with very lightweight but not so robust solutions like TF-IDF and count-based embeddings with neural network architectures like a simple multi-layer perceptron, LSTMs and TextCNNs. With the boom of _transformers_ in the recent days, it would not be wise to not tap into that potential. Hence we will be focusing on building a lightweight pipeline with the use of low-param transformer models."
   ]
  },
  {
   "cell_type": "code",
   "execution_count": 17,
   "metadata": {},
   "outputs": [],
   "source": [
    "model_name = \"/home/karthik_arun/ml/models/distilbert/model\"  \n",
    "tokenizer_name = \"/home/karthik_arun/ml/models/distilbert/tokenizer\"  \n",
    "# or \"albert-base-v2\" \n",
    "# or \"microsoft/deberta-v3-small\" \n",
    "\n",
    "tokenizer = AutoTokenizer.from_pretrained(tokenizer_name)\n",
    "model = AutoModelForSequenceClassification.from_pretrained(\n",
    "    model_name,\n",
    "    num_labels=2,\n",
    "    problem_type=\"single_label_classification\"\n",
    ")"
   ]
  },
  {
   "cell_type": "code",
   "execution_count": 163,
   "metadata": {},
   "outputs": [
    {
     "data": {
      "text/plain": [
       "('./models/distilbert/tokenizer/tokenizer_config.json',\n",
       " './models/distilbert/tokenizer/special_tokens_map.json',\n",
       " './models/distilbert/tokenizer/vocab.txt',\n",
       " './models/distilbert/tokenizer/added_tokens.json',\n",
       " './models/distilbert/tokenizer/tokenizer.json')"
      ]
     },
     "execution_count": 163,
     "metadata": {},
     "output_type": "execute_result"
    }
   ],
   "source": [
    "tokenizer.save_pretrained('./models/distilbert/tokenizer')"
   ]
  },
  {
   "cell_type": "code",
   "execution_count": 164,
   "metadata": {},
   "outputs": [],
   "source": [
    "model.save_pretrained('models/distilbert/model')"
   ]
  },
  {
   "cell_type": "markdown",
   "metadata": {},
   "source": [
    "## Finding optimal max_length for the tokenizer"
   ]
  },
  {
   "cell_type": "code",
   "execution_count": 165,
   "metadata": {},
   "outputs": [],
   "source": [
    "def analyze_text_lengths(df, tokenizer, percentile=95):\n",
    "    lengths = []\n",
    "    for text in df['processed_text']:\n",
    "        tokens = tokenizer.encode(text, add_special_tokens=True)\n",
    "        lengths.append(len(tokens))\n",
    "    lengths = np.array(lengths)\n",
    "    stats = {\n",
    "        'mean': np.mean(lengths),\n",
    "        'median': np.median(lengths),\n",
    "        'percentile_95': np.percentile(lengths, percentile),\n",
    "        'max': np.max(lengths),\n",
    "        'min': np.min(lengths)\n",
    "    }\n",
    "    \n",
    "    plt.figure(figsize=(10, 6))\n",
    "    plt.hist(lengths, bins=50, edgecolor='black')\n",
    "    plt.axvline(stats['mean'], color='r', linestyle='dashed', linewidth=2, label=f\"Mean: {stats['mean']:.1f}\")\n",
    "    plt.axvline(stats['percentile_95'], color='g', linestyle='dashed', linewidth=2, \n",
    "                label=f\"{percentile}th percentile: {stats['percentile_95']:.1f}\")\n",
    "    plt.xlabel('Sequence Length')\n",
    "    plt.ylabel('Count')\n",
    "    plt.title('Distribution of Text Lengths after Tokenization')\n",
    "    plt.legend()\n",
    "    plt.grid(True, alpha=0.3)\n",
    "    plt.show()\n",
    "    \n",
    "    print(\"\\nSequence Length Statistics:\")\n",
    "    for key, value in stats.items():\n",
    "        print(f\"{key}: {value:.1f}\")\n",
    "    \n",
    "    potential_lengths = [32, 64, 128, 256, 512]\n",
    "    print(\"\\nData coverage at different max_lengths:\")\n",
    "    for length in potential_lengths:\n",
    "        coverage = (lengths <= length).mean() * 100\n",
    "        print(f\"max_length={length}: {coverage:.1f}% of texts covered\")\n",
    "    \n",
    "    return stats"
   ]
  },
  {
   "cell_type": "code",
   "execution_count": 40,
   "metadata": {},
   "outputs": [
    {
     "name": "stderr",
     "output_type": "stream",
     "text": [
      "Token indices sequence length is longer than the specified maximum sequence length for this model (1213 > 512). Running this sequence through the model will result in indexing errors\n"
     ]
    },
    {
     "data": {
      "image/png": "[encoded data removed]",
      "text/plain": [
       "<Figure size 1000x600 with 1 Axes>"
      ]
     },
     "metadata": {},
     "output_type": "display_data"
    },
    {
     "name": "stdout",
     "output_type": "stream",
     "text": [
      "\n",
      "Sequence Length Statistics:\n",
      "mean: 41.9\n",
      "median: 20.0\n",
      "percentile_95: 137.0\n",
      "max: 4964.0\n",
      "min: 3.0\n",
      "\n",
      "Data coverage at different max_lengths:\n",
      "max_length=32: 67.5% of texts covered\n",
      "max_length=64: 85.1% of texts covered\n",
      "max_length=128: 94.4% of texts covered\n",
      "max_length=256: 98.0% of texts covered\n",
      "max_length=512: 99.6% of texts covered\n",
      "\n",
      "Analyzing lengths by class:\n",
      "\n",
      "Toxic texts:\n"
     ]
    },
    {
     "data": {
      "image/png": "[encoded data removed]",
      "text/plain": [
       "<Figure size 1000x600 with 1 Axes>"
      ]
     },
     "metadata": {},
     "output_type": "display_data"
    },
    {
     "name": "stdout",
     "output_type": "stream",
     "text": [
      "\n",
      "Sequence Length Statistics:\n",
      "mean: 39.4\n",
      "median: 16.0\n",
      "percentile_95: 101.0\n",
      "max: 4547.0\n",
      "min: 3.0\n",
      "\n",
      "Data coverage at different max_lengths:\n",
      "max_length=32: 81.5% of texts covered\n",
      "max_length=64: 91.7% of texts covered\n",
      "max_length=128: 96.0% of texts covered\n",
      "max_length=256: 97.9% of texts covered\n",
      "max_length=512: 98.9% of texts covered\n",
      "\n",
      "Non-toxic texts:\n"
     ]
    },
    {
     "data": {
      "image/png": "[encoded data removed]",
      "text/plain": [
       "<Figure size 1000x600 with 1 Axes>"
      ]
     },
     "metadata": {},
     "output_type": "display_data"
    },
    {
     "name": "stdout",
     "output_type": "stream",
     "text": [
      "\n",
      "Sequence Length Statistics:\n",
      "mean: 42.2\n",
      "median: 21.0\n",
      "percentile_95: 140.0\n",
      "max: 4964.0\n",
      "min: 3.0\n",
      "\n",
      "Data coverage at different max_lengths:\n",
      "max_length=32: 65.7% of texts covered\n",
      "max_length=64: 84.2% of texts covered\n",
      "max_length=128: 94.2% of texts covered\n",
      "max_length=256: 98.0% of texts covered\n",
      "max_length=512: 99.7% of texts covered\n"
     ]
    }
   ],
   "source": [
    "stats = analyze_text_lengths(processed_df, tokenizer)\n",
    "\n",
    "print(\"\\nAnalyzing lengths by class:\")\n",
    "print(\"\\nToxic texts:\")\n",
    "toxic_stats = analyze_text_lengths(processed_df[processed_df['oh_label'] == 1], tokenizer)\n",
    "print(\"\\nNon-toxic texts:\")\n",
    "nontoxic_stats = analyze_text_lengths(processed_df[processed_df['oh_label'] == 0], tokenizer)\n"
   ]
  },
  {
   "cell_type": "markdown",
   "metadata": {},
   "source": [
    "* 128 looks to be alright given it covers 95% of the texts. And 512 is the max for this model's tokenizer anyway."
   ]
  },
  {
   "cell_type": "markdown",
   "metadata": {},
   "source": [
    "## Dataset Prep"
   ]
  },
  {
   "cell_type": "code",
   "execution_count": 18,
   "metadata": {},
   "outputs": [],
   "source": [
    "class CyberbullyingDataset(Dataset):\n",
    "    def __init__(self, df, tokenizer, max_length=128):\n",
    "        self.texts = df['processed_text'].values\n",
    "        self.labels = df['oh_label'].values\n",
    "        self.tokenizer = tokenizer\n",
    "        self.max_length = max_length\n",
    "\n",
    "    def __len__(self):\n",
    "        return len(self.texts)\n",
    "\n",
    "    def __getitem__(self, idx):\n",
    "        text = str(self.texts[idx])\n",
    "        label = self.labels[idx]\n",
    "\n",
    "        encoding = self.tokenizer(\n",
    "            text,\n",
    "            add_special_tokens=True,\n",
    "            max_length=self.max_length,\n",
    "            padding='max_length',\n",
    "            truncation=True,\n",
    "            return_attention_mask=True,\n",
    "            return_tensors='pt'\n",
    "        )\n",
    "\n",
    "        return {\n",
    "            'input_ids': encoding['input_ids'].flatten(),\n",
    "            'attention_mask': encoding['attention_mask'].flatten(),\n",
    "            'labels': torch.tensor(label, dtype=torch.long)\n",
    "        }"
   ]
  },
  {
   "cell_type": "code",
   "execution_count": 19,
   "metadata": {},
   "outputs": [],
   "source": [
    "train_dataset = CyberbullyingDataset(train_df, tokenizer)\n",
    "val_dataset = CyberbullyingDataset(val_df, tokenizer)\n",
    "test_dataset = CyberbullyingDataset(test_df, tokenizer)"
   ]
  },
  {
   "cell_type": "code",
   "execution_count": 20,
   "metadata": {},
   "outputs": [
    {
     "name": "stdout",
     "output_type": "stream",
     "text": [
      "Dataset sizes:\n",
      "Train: 167721\n",
      "Validation: 35824\n",
      "Test: 35920\n"
     ]
    }
   ],
   "source": [
    "print(\"Dataset sizes:\")\n",
    "print(f\"Train: {len(train_dataset)}\")\n",
    "print(f\"Validation: {len(val_dataset)}\")\n",
    "print(f\"Test: {len(test_dataset)}\")"
   ]
  },
  {
   "cell_type": "code",
   "execution_count": 21,
   "metadata": {},
   "outputs": [
    {
     "name": "stdout",
     "output_type": "stream",
     "text": [
      "\n",
      "Sample input:\n",
      "Input shape: torch.Size([128])\n",
      "Attention mask shape: torch.Size([128])\n",
      "Label: 0\n"
     ]
    }
   ],
   "source": [
    "sample = train_dataset[0]\n",
    "print(\"\\nSample input:\")\n",
    "print(f\"Input shape: {sample['input_ids'].shape}\")\n",
    "print(f\"Attention mask shape: {sample['attention_mask'].shape}\")\n",
    "print(f\"Label: {sample['labels']}\")"
   ]
  },
  {
   "cell_type": "code",
   "execution_count": 22,
   "metadata": {},
   "outputs": [
    {
     "name": "stdout",
     "output_type": "stream",
     "text": [
      "\n",
      "Decoded sample text:\n",
      "[CLS] take mom get rich [SEP] [PAD] [PAD] [PAD] [PAD] [PAD] [PAD] [PAD] [PAD] [PAD] [PAD] [PAD] [PAD] [PAD] [PAD] [PAD] [PAD] [PAD] [PAD] [PAD] [PAD] [PAD] [PAD] [PAD] [PAD] [PAD] [PAD] [PAD] [PAD] [PAD] [PAD] [PAD] [PAD] [PAD] [PAD] [PAD] [PAD] [PAD] [PAD] [PAD] [PAD] [PAD] [PAD] [PAD] [PAD] [PAD] [PAD] [PAD] [PAD] [PAD] [PAD] [PAD] [PAD] [PAD] [PAD] [PAD] [PAD] [PAD] [PAD] [PAD] [PAD] [PAD] [PAD] [PAD] [PAD] [PAD] [PAD] [PAD] [PAD] [PAD] [PAD] [PAD] [PAD] [PAD] [PAD] [PAD] [PAD] [PAD] [PAD] [PAD] [PAD] [PAD] [PAD] [PAD] [PAD] [PAD] [PAD] [PAD] [PAD] [PAD] [PAD] [PAD] [PAD] [PAD] [PAD] [PAD] [PAD] [PAD] [PAD] [PAD] [PAD] [PAD] [PAD] [PAD] [PAD] [PAD] [PAD] [PAD] [PAD] [PAD] [PAD] [PAD] [PAD] [PAD] [PAD] [PAD] [PAD] [PAD] [PAD] [PAD] [PAD] [PAD] [PAD]\n"
     ]
    }
   ],
   "source": [
    "sample_text = tokenizer.decode(sample['input_ids'])\n",
    "print(\"\\nDecoded sample text:\")\n",
    "print(sample_text)"
   ]
  },
  {
   "cell_type": "code",
   "execution_count": 23,
   "metadata": {},
   "outputs": [
    {
     "data": {
      "text/plain": [
       "device(type='cuda')"
      ]
     },
     "execution_count": 23,
     "metadata": {},
     "output_type": "execute_result"
    }
   ],
   "source": [
    "device = torch.device('cuda' if torch.cuda.is_available() else 'cpu')\n",
    "device"
   ]
  },
  {
   "cell_type": "code",
   "execution_count": 24,
   "metadata": {},
   "outputs": [],
   "source": [
    "train_loader = DataLoader(\n",
    "    train_dataset,\n",
    "    batch_size=32,\n",
    "    shuffle=True,\n",
    "    num_workers=0\n",
    ")"
   ]
  },
  {
   "cell_type": "code",
   "execution_count": 26,
   "metadata": {},
   "outputs": [],
   "source": [
    "val_loader = DataLoader(\n",
    "    val_dataset,\n",
    "    batch_size=64, \n",
    "    shuffle=False,\n",
    "    num_workers=0\n",
    ")"
   ]
  },
  {
   "cell_type": "code",
   "execution_count": 27,
   "metadata": {},
   "outputs": [],
   "source": [
    "test_loader = DataLoader(\n",
    "    test_dataset,\n",
    "    batch_size=64,\n",
    "    shuffle=False,\n",
    "    num_workers=0\n",
    ")"
   ]
  },
  {
   "cell_type": "code",
   "execution_count": 28,
   "metadata": {},
   "outputs": [],
   "source": [
    "class_weights = compute_class_weight(\n",
    "    class_weight='balanced',\n",
    "    classes=np.unique(train_df['oh_label']),\n",
    "    y=train_df['oh_label']\n",
    ")\n",
    "class_weights = torch.FloatTensor(class_weights).to(device)"
   ]
  },
  {
   "cell_type": "code",
   "execution_count": 29,
   "metadata": {},
   "outputs": [
    {
     "data": {
      "text/plain": [
       "tensor([0.5650, 4.3471], device='cuda:0')"
      ]
     },
     "execution_count": 29,
     "metadata": {},
     "output_type": "execute_result"
    }
   ],
   "source": [
    "class_weights"
   ]
  },
  {
   "cell_type": "code",
   "execution_count": 30,
   "metadata": {},
   "outputs": [
    {
     "name": "stdout",
     "output_type": "stream",
     "text": [
      "Time taken to load batch: 0.02 seconds\n",
      "\n",
      "Batch structure:\n",
      "input_ids: shape torch.Size([32, 128])\n",
      "attention_mask: shape torch.Size([32, 128])\n",
      "labels: shape torch.Size([32])\n"
     ]
    }
   ],
   "source": [
    "try:\n",
    "    start_time = time.time()\n",
    "    sample_batch = next(iter(train_loader))\n",
    "    end_time = time.time()\n",
    "\n",
    "    print(f\"Time taken to load batch: {end_time - start_time:.2f} seconds\")\n",
    "    print(\"\\nBatch structure:\")\n",
    "    for k, v in sample_batch.items():\n",
    "        print(f\"{k}: shape {v.shape}\")\n",
    "except Exception as e:\n",
    "    print(f\"Error loading batch: {str(e)}\")"
   ]
  },
  {
   "cell_type": "markdown",
   "metadata": {},
   "source": [
    "## Training with the full data - no tweaks"
   ]
  },
  {
   "cell_type": "code",
   "execution_count": 31,
   "metadata": {},
   "outputs": [
    {
     "name": "stdout",
     "output_type": "stream",
     "text": [
      "\n",
      "Training setup:\n",
      "Training batches per epoch: 5242\n",
      "Validation batches per epoch: 560\n",
      "Total training steps: 26210\n",
      "Warmup steps: 2621\n"
     ]
    }
   ],
   "source": [
    "training_args = {\n",
    "    'num_epochs': 5,\n",
    "    'learning_rate': 5e-5,\n",
    "    'warmup_steps': 0.1,\n",
    "    'weight_decay': 0.01,\n",
    "    'gradient_clipping': 1.0,\n",
    "    'batch_size': 64\n",
    "}\n",
    "\n",
    "total_steps = len(train_loader) * training_args['num_epochs']\n",
    "warmup_steps = int(total_steps * training_args['warmup_steps'])\n",
    "\n",
    "print(\"\\nTraining setup:\")\n",
    "print(f\"Training batches per epoch: {len(train_loader)}\")\n",
    "print(f\"Validation batches per epoch: {len(val_loader)}\")\n",
    "print(f\"Total training steps: {total_steps}\")\n",
    "print(f\"Warmup steps: {warmup_steps}\")"
   ]
  },
  {
   "cell_type": "code",
   "execution_count": 32,
   "metadata": {},
   "outputs": [],
   "source": [
    "# class FocalLoss(nn.Module):\n",
    "#     def __init__(self, alpha=0.75, gamma=2):\n",
    "#         super().__init__()\n",
    "#         self.alpha = alpha\n",
    "#         self.gamma = gamma\n",
    "    \n",
    "#     def forward(self, inputs, targets):\n",
    "#         ce_loss = F.cross_entropy(inputs, targets, reduction='none')\n",
    "#         pt = torch.exp(-ce_loss)\n",
    "#         focal_loss = self.alpha * (1-pt)**self.gamma * ce_loss\n",
    "#         return focal_loss.mean()\n",
    "\n",
    "# # Replace previous criterion\n",
    "# criterion = FocalLoss()"
   ]
  },
  {
   "cell_type": "code",
   "execution_count": 33,
   "metadata": {},
   "outputs": [],
   "source": [
    "class CyberbullyingClassifier(nn.Module):\n",
    "    def __init__(self, model_name=\"distilbert-base-uncased\", dropout=0.5):\n",
    "        super().__init__()\n",
    "        self.bert = AutoModel.from_pretrained(model_name)\n",
    "        self.layer_norm = nn.LayerNorm(self.bert.config.hidden_size)\n",
    "        self.classifier = nn.Sequential(\n",
    "            nn.Dropout(dropout),\n",
    "            nn.Linear(self.bert.config.hidden_size, 256),\n",
    "            nn.LayerNorm(256),\n",
    "            nn.ReLU(),\n",
    "            nn.Dropout(dropout),\n",
    "            nn.Linear(256, 1)\n",
    "        )\n",
    "    \n",
    "    def forward(self, input_ids, attention_mask):\n",
    "        outputs = self.bert(input_ids=input_ids, attention_mask=attention_mask)\n",
    "        pooled_output = outputs.last_hidden_state[:, 0, :]\n",
    "        return self.classifier(pooled_output)"
   ]
  },
  {
   "cell_type": "code",
   "execution_count": 34,
   "metadata": {},
   "outputs": [],
   "source": [
    "model = CyberbullyingClassifier()\n",
    "model = model.to(device)"
   ]
  },
  {
   "cell_type": "code",
   "execution_count": 35,
   "metadata": {},
   "outputs": [
    {
     "name": "stdout",
     "output_type": "stream",
     "text": [
      "bert.embeddings.word_embeddings.weight True\n",
      "bert.embeddings.position_embeddings.weight True\n",
      "bert.embeddings.LayerNorm.weight True\n",
      "bert.embeddings.LayerNorm.bias True\n",
      "bert.transformer.layer.0.attention.q_lin.weight True\n",
      "bert.transformer.layer.0.attention.q_lin.bias True\n",
      "bert.transformer.layer.0.attention.k_lin.weight True\n",
      "bert.transformer.layer.0.attention.k_lin.bias True\n",
      "bert.transformer.layer.0.attention.v_lin.weight True\n",
      "bert.transformer.layer.0.attention.v_lin.bias True\n",
      "bert.transformer.layer.0.attention.out_lin.weight True\n",
      "bert.transformer.layer.0.attention.out_lin.bias True\n",
      "bert.transformer.layer.0.sa_layer_norm.weight True\n",
      "bert.transformer.layer.0.sa_layer_norm.bias True\n",
      "bert.transformer.layer.0.ffn.lin1.weight True\n",
      "bert.transformer.layer.0.ffn.lin1.bias True\n",
      "bert.transformer.layer.0.ffn.lin2.weight True\n",
      "bert.transformer.layer.0.ffn.lin2.bias True\n",
      "bert.transformer.layer.0.output_layer_norm.weight True\n",
      "bert.transformer.layer.0.output_layer_norm.bias True\n",
      "bert.transformer.layer.1.attention.q_lin.weight True\n",
      "bert.transformer.layer.1.attention.q_lin.bias True\n",
      "bert.transformer.layer.1.attention.k_lin.weight True\n",
      "bert.transformer.layer.1.attention.k_lin.bias True\n",
      "bert.transformer.layer.1.attention.v_lin.weight True\n",
      "bert.transformer.layer.1.attention.v_lin.bias True\n",
      "bert.transformer.layer.1.attention.out_lin.weight True\n",
      "bert.transformer.layer.1.attention.out_lin.bias True\n",
      "bert.transformer.layer.1.sa_layer_norm.weight True\n",
      "bert.transformer.layer.1.sa_layer_norm.bias True\n",
      "bert.transformer.layer.1.ffn.lin1.weight True\n",
      "bert.transformer.layer.1.ffn.lin1.bias True\n",
      "bert.transformer.layer.1.ffn.lin2.weight True\n",
      "bert.transformer.layer.1.ffn.lin2.bias True\n",
      "bert.transformer.layer.1.output_layer_norm.weight True\n",
      "bert.transformer.layer.1.output_layer_norm.bias True\n",
      "bert.transformer.layer.2.attention.q_lin.weight True\n",
      "bert.transformer.layer.2.attention.q_lin.bias True\n",
      "bert.transformer.layer.2.attention.k_lin.weight True\n",
      "bert.transformer.layer.2.attention.k_lin.bias True\n",
      "bert.transformer.layer.2.attention.v_lin.weight True\n",
      "bert.transformer.layer.2.attention.v_lin.bias True\n",
      "bert.transformer.layer.2.attention.out_lin.weight True\n",
      "bert.transformer.layer.2.attention.out_lin.bias True\n",
      "bert.transformer.layer.2.sa_layer_norm.weight True\n",
      "bert.transformer.layer.2.sa_layer_norm.bias True\n",
      "bert.transformer.layer.2.ffn.lin1.weight True\n",
      "bert.transformer.layer.2.ffn.lin1.bias True\n",
      "bert.transformer.layer.2.ffn.lin2.weight True\n",
      "bert.transformer.layer.2.ffn.lin2.bias True\n",
      "bert.transformer.layer.2.output_layer_norm.weight True\n",
      "bert.transformer.layer.2.output_layer_norm.bias True\n",
      "bert.transformer.layer.3.attention.q_lin.weight True\n",
      "bert.transformer.layer.3.attention.q_lin.bias True\n",
      "bert.transformer.layer.3.attention.k_lin.weight True\n",
      "bert.transformer.layer.3.attention.k_lin.bias True\n",
      "bert.transformer.layer.3.attention.v_lin.weight True\n",
      "bert.transformer.layer.3.attention.v_lin.bias True\n",
      "bert.transformer.layer.3.attention.out_lin.weight True\n",
      "bert.transformer.layer.3.attention.out_lin.bias True\n",
      "bert.transformer.layer.3.sa_layer_norm.weight True\n",
      "bert.transformer.layer.3.sa_layer_norm.bias True\n",
      "bert.transformer.layer.3.ffn.lin1.weight True\n",
      "bert.transformer.layer.3.ffn.lin1.bias True\n",
      "bert.transformer.layer.3.ffn.lin2.weight True\n",
      "bert.transformer.layer.3.ffn.lin2.bias True\n",
      "bert.transformer.layer.3.output_layer_norm.weight True\n",
      "bert.transformer.layer.3.output_layer_norm.bias True\n",
      "bert.transformer.layer.4.attention.q_lin.weight True\n",
      "bert.transformer.layer.4.attention.q_lin.bias True\n",
      "bert.transformer.layer.4.attention.k_lin.weight True\n",
      "bert.transformer.layer.4.attention.k_lin.bias True\n",
      "bert.transformer.layer.4.attention.v_lin.weight True\n",
      "bert.transformer.layer.4.attention.v_lin.bias True\n",
      "bert.transformer.layer.4.attention.out_lin.weight True\n",
      "bert.transformer.layer.4.attention.out_lin.bias True\n",
      "bert.transformer.layer.4.sa_layer_norm.weight True\n",
      "bert.transformer.layer.4.sa_layer_norm.bias True\n",
      "bert.transformer.layer.4.ffn.lin1.weight True\n",
      "bert.transformer.layer.4.ffn.lin1.bias True\n",
      "bert.transformer.layer.4.ffn.lin2.weight True\n",
      "bert.transformer.layer.4.ffn.lin2.bias True\n",
      "bert.transformer.layer.4.output_layer_norm.weight True\n",
      "bert.transformer.layer.4.output_layer_norm.bias True\n",
      "bert.transformer.layer.5.attention.q_lin.weight True\n",
      "bert.transformer.layer.5.attention.q_lin.bias True\n",
      "bert.transformer.layer.5.attention.k_lin.weight True\n",
      "bert.transformer.layer.5.attention.k_lin.bias True\n",
      "bert.transformer.layer.5.attention.v_lin.weight True\n",
      "bert.transformer.layer.5.attention.v_lin.bias True\n",
      "bert.transformer.layer.5.attention.out_lin.weight True\n",
      "bert.transformer.layer.5.attention.out_lin.bias True\n",
      "bert.transformer.layer.5.sa_layer_norm.weight True\n",
      "bert.transformer.layer.5.sa_layer_norm.bias True\n",
      "bert.transformer.layer.5.ffn.lin1.weight True\n",
      "bert.transformer.layer.5.ffn.lin1.bias True\n",
      "bert.transformer.layer.5.ffn.lin2.weight True\n",
      "bert.transformer.layer.5.ffn.lin2.bias True\n",
      "bert.transformer.layer.5.output_layer_norm.weight True\n",
      "bert.transformer.layer.5.output_layer_norm.bias True\n",
      "layer_norm.weight True\n",
      "layer_norm.bias True\n",
      "classifier.1.weight True\n",
      "classifier.1.bias True\n",
      "classifier.2.weight True\n",
      "classifier.2.bias True\n",
      "classifier.5.weight True\n",
      "classifier.5.bias True\n",
      "embeddings.word_embeddings.weight True\n",
      "embeddings.position_embeddings.weight True\n",
      "embeddings.LayerNorm.weight True\n",
      "embeddings.LayerNorm.bias True\n",
      "transformer.layer.0.attention.q_lin.weight True\n",
      "transformer.layer.0.attention.q_lin.bias True\n",
      "transformer.layer.0.attention.k_lin.weight True\n",
      "transformer.layer.0.attention.k_lin.bias True\n",
      "transformer.layer.0.attention.v_lin.weight True\n",
      "transformer.layer.0.attention.v_lin.bias True\n",
      "transformer.layer.0.attention.out_lin.weight True\n",
      "transformer.layer.0.attention.out_lin.bias True\n",
      "transformer.layer.0.sa_layer_norm.weight True\n",
      "transformer.layer.0.sa_layer_norm.bias True\n",
      "transformer.layer.0.ffn.lin1.weight True\n",
      "transformer.layer.0.ffn.lin1.bias True\n",
      "transformer.layer.0.ffn.lin2.weight True\n",
      "transformer.layer.0.ffn.lin2.bias True\n",
      "transformer.layer.0.output_layer_norm.weight True\n",
      "transformer.layer.0.output_layer_norm.bias True\n",
      "transformer.layer.1.attention.q_lin.weight True\n",
      "transformer.layer.1.attention.q_lin.bias True\n",
      "transformer.layer.1.attention.k_lin.weight True\n",
      "transformer.layer.1.attention.k_lin.bias True\n",
      "transformer.layer.1.attention.v_lin.weight True\n",
      "transformer.layer.1.attention.v_lin.bias True\n",
      "transformer.layer.1.attention.out_lin.weight True\n",
      "transformer.layer.1.attention.out_lin.bias True\n",
      "transformer.layer.1.sa_layer_norm.weight True\n",
      "transformer.layer.1.sa_layer_norm.bias True\n",
      "transformer.layer.1.ffn.lin1.weight True\n",
      "transformer.layer.1.ffn.lin1.bias True\n",
      "transformer.layer.1.ffn.lin2.weight True\n",
      "transformer.layer.1.ffn.lin2.bias True\n",
      "transformer.layer.1.output_layer_norm.weight True\n",
      "transformer.layer.1.output_layer_norm.bias True\n",
      "transformer.layer.2.attention.q_lin.weight True\n",
      "transformer.layer.2.attention.q_lin.bias True\n",
      "transformer.layer.2.attention.k_lin.weight True\n",
      "transformer.layer.2.attention.k_lin.bias True\n",
      "transformer.layer.2.attention.v_lin.weight True\n",
      "transformer.layer.2.attention.v_lin.bias True\n",
      "transformer.layer.2.attention.out_lin.weight True\n",
      "transformer.layer.2.attention.out_lin.bias True\n",
      "transformer.layer.2.sa_layer_norm.weight True\n",
      "transformer.layer.2.sa_layer_norm.bias True\n",
      "transformer.layer.2.ffn.lin1.weight True\n",
      "transformer.layer.2.ffn.lin1.bias True\n",
      "transformer.layer.2.ffn.lin2.weight True\n",
      "transformer.layer.2.ffn.lin2.bias True\n",
      "transformer.layer.2.output_layer_norm.weight True\n",
      "transformer.layer.2.output_layer_norm.bias True\n",
      "transformer.layer.3.attention.q_lin.weight True\n",
      "transformer.layer.3.attention.q_lin.bias True\n",
      "transformer.layer.3.attention.k_lin.weight True\n",
      "transformer.layer.3.attention.k_lin.bias True\n",
      "transformer.layer.3.attention.v_lin.weight True\n",
      "transformer.layer.3.attention.v_lin.bias True\n",
      "transformer.layer.3.attention.out_lin.weight True\n",
      "transformer.layer.3.attention.out_lin.bias True\n",
      "transformer.layer.3.sa_layer_norm.weight True\n",
      "transformer.layer.3.sa_layer_norm.bias True\n",
      "transformer.layer.3.ffn.lin1.weight True\n",
      "transformer.layer.3.ffn.lin1.bias True\n",
      "transformer.layer.3.ffn.lin2.weight True\n",
      "transformer.layer.3.ffn.lin2.bias True\n",
      "transformer.layer.3.output_layer_norm.weight True\n",
      "transformer.layer.3.output_layer_norm.bias True\n",
      "transformer.layer.4.attention.q_lin.weight True\n",
      "transformer.layer.4.attention.q_lin.bias True\n",
      "transformer.layer.4.attention.k_lin.weight True\n",
      "transformer.layer.4.attention.k_lin.bias True\n",
      "transformer.layer.4.attention.v_lin.weight True\n",
      "transformer.layer.4.attention.v_lin.bias True\n",
      "transformer.layer.4.attention.out_lin.weight True\n",
      "transformer.layer.4.attention.out_lin.bias True\n",
      "transformer.layer.4.sa_layer_norm.weight True\n",
      "transformer.layer.4.sa_layer_norm.bias True\n",
      "transformer.layer.4.ffn.lin1.weight True\n",
      "transformer.layer.4.ffn.lin1.bias True\n",
      "transformer.layer.4.ffn.lin2.weight True\n",
      "transformer.layer.4.ffn.lin2.bias True\n",
      "transformer.layer.4.output_layer_norm.weight True\n",
      "transformer.layer.4.output_layer_norm.bias True\n",
      "transformer.layer.5.attention.q_lin.weight True\n",
      "transformer.layer.5.attention.q_lin.bias True\n",
      "transformer.layer.5.attention.k_lin.weight True\n",
      "transformer.layer.5.attention.k_lin.bias True\n",
      "transformer.layer.5.attention.v_lin.weight True\n",
      "transformer.layer.5.attention.v_lin.bias True\n",
      "transformer.layer.5.attention.out_lin.weight True\n",
      "transformer.layer.5.attention.out_lin.bias True\n",
      "transformer.layer.5.sa_layer_norm.weight True\n",
      "transformer.layer.5.sa_layer_norm.bias True\n",
      "transformer.layer.5.ffn.lin1.weight True\n",
      "transformer.layer.5.ffn.lin1.bias True\n",
      "transformer.layer.5.ffn.lin2.weight True\n",
      "transformer.layer.5.ffn.lin2.bias True\n",
      "transformer.layer.5.output_layer_norm.weight True\n",
      "transformer.layer.5.output_layer_norm.bias True\n",
      "word_embeddings.weight True\n",
      "position_embeddings.weight True\n",
      "LayerNorm.weight True\n",
      "LayerNorm.bias True\n",
      "weight True\n",
      "weight True\n",
      "weight True\n",
      "bias True\n",
      "layer.0.attention.q_lin.weight True\n",
      "layer.0.attention.q_lin.bias True\n",
      "layer.0.attention.k_lin.weight True\n",
      "layer.0.attention.k_lin.bias True\n",
      "layer.0.attention.v_lin.weight True\n",
      "layer.0.attention.v_lin.bias True\n",
      "layer.0.attention.out_lin.weight True\n",
      "layer.0.attention.out_lin.bias True\n",
      "layer.0.sa_layer_norm.weight True\n",
      "layer.0.sa_layer_norm.bias True\n",
      "layer.0.ffn.lin1.weight True\n",
      "layer.0.ffn.lin1.bias True\n",
      "layer.0.ffn.lin2.weight True\n",
      "layer.0.ffn.lin2.bias True\n",
      "layer.0.output_layer_norm.weight True\n",
      "layer.0.output_layer_norm.bias True\n",
      "layer.1.attention.q_lin.weight True\n",
      "layer.1.attention.q_lin.bias True\n",
      "layer.1.attention.k_lin.weight True\n",
      "layer.1.attention.k_lin.bias True\n",
      "layer.1.attention.v_lin.weight True\n",
      "layer.1.attention.v_lin.bias True\n",
      "layer.1.attention.out_lin.weight True\n",
      "layer.1.attention.out_lin.bias True\n",
      "layer.1.sa_layer_norm.weight True\n",
      "layer.1.sa_layer_norm.bias True\n",
      "layer.1.ffn.lin1.weight True\n",
      "layer.1.ffn.lin1.bias True\n",
      "layer.1.ffn.lin2.weight True\n",
      "layer.1.ffn.lin2.bias True\n",
      "layer.1.output_layer_norm.weight True\n",
      "layer.1.output_layer_norm.bias True\n",
      "layer.2.attention.q_lin.weight True\n",
      "layer.2.attention.q_lin.bias True\n",
      "layer.2.attention.k_lin.weight True\n",
      "layer.2.attention.k_lin.bias True\n",
      "layer.2.attention.v_lin.weight True\n",
      "layer.2.attention.v_lin.bias True\n",
      "layer.2.attention.out_lin.weight True\n",
      "layer.2.attention.out_lin.bias True\n",
      "layer.2.sa_layer_norm.weight True\n",
      "layer.2.sa_layer_norm.bias True\n",
      "layer.2.ffn.lin1.weight True\n",
      "layer.2.ffn.lin1.bias True\n",
      "layer.2.ffn.lin2.weight True\n",
      "layer.2.ffn.lin2.bias True\n",
      "layer.2.output_layer_norm.weight True\n",
      "layer.2.output_layer_norm.bias True\n",
      "layer.3.attention.q_lin.weight True\n",
      "layer.3.attention.q_lin.bias True\n",
      "layer.3.attention.k_lin.weight True\n",
      "layer.3.attention.k_lin.bias True\n",
      "layer.3.attention.v_lin.weight True\n",
      "layer.3.attention.v_lin.bias True\n",
      "layer.3.attention.out_lin.weight True\n",
      "layer.3.attention.out_lin.bias True\n",
      "layer.3.sa_layer_norm.weight True\n",
      "layer.3.sa_layer_norm.bias True\n",
      "layer.3.ffn.lin1.weight True\n",
      "layer.3.ffn.lin1.bias True\n",
      "layer.3.ffn.lin2.weight True\n",
      "layer.3.ffn.lin2.bias True\n",
      "layer.3.output_layer_norm.weight True\n",
      "layer.3.output_layer_norm.bias True\n",
      "layer.4.attention.q_lin.weight True\n",
      "layer.4.attention.q_lin.bias True\n",
      "layer.4.attention.k_lin.weight True\n",
      "layer.4.attention.k_lin.bias True\n",
      "layer.4.attention.v_lin.weight True\n",
      "layer.4.attention.v_lin.bias True\n",
      "layer.4.attention.out_lin.weight True\n",
      "layer.4.attention.out_lin.bias True\n",
      "layer.4.sa_layer_norm.weight True\n",
      "layer.4.sa_layer_norm.bias True\n",
      "layer.4.ffn.lin1.weight True\n",
      "layer.4.ffn.lin1.bias True\n",
      "layer.4.ffn.lin2.weight True\n",
      "layer.4.ffn.lin2.bias True\n",
      "layer.4.output_layer_norm.weight True\n",
      "layer.4.output_layer_norm.bias True\n",
      "layer.5.attention.q_lin.weight True\n",
      "layer.5.attention.q_lin.bias True\n",
      "layer.5.attention.k_lin.weight True\n",
      "layer.5.attention.k_lin.bias True\n",
      "layer.5.attention.v_lin.weight True\n",
      "layer.5.attention.v_lin.bias True\n",
      "layer.5.attention.out_lin.weight True\n",
      "layer.5.attention.out_lin.bias True\n",
      "layer.5.sa_layer_norm.weight True\n",
      "layer.5.sa_layer_norm.bias True\n",
      "layer.5.ffn.lin1.weight True\n",
      "layer.5.ffn.lin1.bias True\n",
      "layer.5.ffn.lin2.weight True\n",
      "layer.5.ffn.lin2.bias True\n",
      "layer.5.output_layer_norm.weight True\n",
      "layer.5.output_layer_norm.bias True\n",
      "0.attention.q_lin.weight True\n",
      "0.attention.q_lin.bias True\n",
      "0.attention.k_lin.weight True\n",
      "0.attention.k_lin.bias True\n",
      "0.attention.v_lin.weight True\n",
      "0.attention.v_lin.bias True\n",
      "0.attention.out_lin.weight True\n",
      "0.attention.out_lin.bias True\n",
      "0.sa_layer_norm.weight True\n",
      "0.sa_layer_norm.bias True\n",
      "0.ffn.lin1.weight True\n",
      "0.ffn.lin1.bias True\n",
      "0.ffn.lin2.weight True\n",
      "0.ffn.lin2.bias True\n",
      "0.output_layer_norm.weight True\n",
      "0.output_layer_norm.bias True\n",
      "1.attention.q_lin.weight True\n",
      "1.attention.q_lin.bias True\n",
      "1.attention.k_lin.weight True\n",
      "1.attention.k_lin.bias True\n",
      "1.attention.v_lin.weight True\n",
      "1.attention.v_lin.bias True\n",
      "1.attention.out_lin.weight True\n",
      "1.attention.out_lin.bias True\n",
      "1.sa_layer_norm.weight True\n",
      "1.sa_layer_norm.bias True\n",
      "1.ffn.lin1.weight True\n",
      "1.ffn.lin1.bias True\n",
      "1.ffn.lin2.weight True\n",
      "1.ffn.lin2.bias True\n",
      "1.output_layer_norm.weight True\n",
      "1.output_layer_norm.bias True\n",
      "2.attention.q_lin.weight True\n",
      "2.attention.q_lin.bias True\n",
      "2.attention.k_lin.weight True\n",
      "2.attention.k_lin.bias True\n",
      "2.attention.v_lin.weight True\n",
      "2.attention.v_lin.bias True\n",
      "2.attention.out_lin.weight True\n",
      "2.attention.out_lin.bias True\n",
      "2.sa_layer_norm.weight True\n",
      "2.sa_layer_norm.bias True\n",
      "2.ffn.lin1.weight True\n",
      "2.ffn.lin1.bias True\n",
      "2.ffn.lin2.weight True\n",
      "2.ffn.lin2.bias True\n",
      "2.output_layer_norm.weight True\n",
      "2.output_layer_norm.bias True\n",
      "3.attention.q_lin.weight True\n",
      "3.attention.q_lin.bias True\n",
      "3.attention.k_lin.weight True\n",
      "3.attention.k_lin.bias True\n",
      "3.attention.v_lin.weight True\n",
      "3.attention.v_lin.bias True\n",
      "3.attention.out_lin.weight True\n",
      "3.attention.out_lin.bias True\n",
      "3.sa_layer_norm.weight True\n",
      "3.sa_layer_norm.bias True\n",
      "3.ffn.lin1.weight True\n",
      "3.ffn.lin1.bias True\n",
      "3.ffn.lin2.weight True\n",
      "3.ffn.lin2.bias True\n",
      "3.output_layer_norm.weight True\n",
      "3.output_layer_norm.bias True\n",
      "4.attention.q_lin.weight True\n",
      "4.attention.q_lin.bias True\n",
      "4.attention.k_lin.weight True\n",
      "4.attention.k_lin.bias True\n",
      "4.attention.v_lin.weight True\n",
      "4.attention.v_lin.bias True\n",
      "4.attention.out_lin.weight True\n",
      "4.attention.out_lin.bias True\n",
      "4.sa_layer_norm.weight True\n",
      "4.sa_layer_norm.bias True\n",
      "4.ffn.lin1.weight True\n",
      "4.ffn.lin1.bias True\n",
      "4.ffn.lin2.weight True\n",
      "4.ffn.lin2.bias True\n",
      "4.output_layer_norm.weight True\n",
      "4.output_layer_norm.bias True\n",
      "5.attention.q_lin.weight True\n",
      "5.attention.q_lin.bias True\n",
      "5.attention.k_lin.weight True\n",
      "5.attention.k_lin.bias True\n",
      "5.attention.v_lin.weight True\n",
      "5.attention.v_lin.bias True\n",
      "5.attention.out_lin.weight True\n",
      "5.attention.out_lin.bias True\n",
      "5.sa_layer_norm.weight True\n",
      "5.sa_layer_norm.bias True\n",
      "5.ffn.lin1.weight True\n",
      "5.ffn.lin1.bias True\n",
      "5.ffn.lin2.weight True\n",
      "5.ffn.lin2.bias True\n",
      "5.output_layer_norm.weight True\n",
      "5.output_layer_norm.bias True\n",
      "attention.q_lin.weight True\n",
      "attention.q_lin.bias True\n",
      "attention.k_lin.weight True\n",
      "attention.k_lin.bias True\n",
      "attention.v_lin.weight True\n",
      "attention.v_lin.bias True\n",
      "attention.out_lin.weight True\n",
      "attention.out_lin.bias True\n",
      "sa_layer_norm.weight True\n",
      "sa_layer_norm.bias True\n",
      "ffn.lin1.weight True\n",
      "ffn.lin1.bias True\n",
      "ffn.lin2.weight True\n",
      "ffn.lin2.bias True\n",
      "output_layer_norm.weight True\n",
      "output_layer_norm.bias True\n",
      "q_lin.weight True\n",
      "q_lin.bias True\n",
      "k_lin.weight True\n",
      "k_lin.bias True\n",
      "v_lin.weight True\n",
      "v_lin.bias True\n",
      "out_lin.weight True\n",
      "out_lin.bias True\n",
      "weight True\n",
      "bias True\n",
      "weight True\n",
      "bias True\n",
      "weight True\n",
      "bias True\n",
      "weight True\n",
      "bias True\n",
      "weight True\n",
      "bias True\n",
      "lin1.weight True\n",
      "lin1.bias True\n",
      "lin2.weight True\n",
      "lin2.bias True\n",
      "weight True\n",
      "bias True\n",
      "weight True\n",
      "bias True\n",
      "weight True\n",
      "bias True\n",
      "attention.q_lin.weight True\n",
      "attention.q_lin.bias True\n",
      "attention.k_lin.weight True\n",
      "attention.k_lin.bias True\n",
      "attention.v_lin.weight True\n",
      "attention.v_lin.bias True\n",
      "attention.out_lin.weight True\n",
      "attention.out_lin.bias True\n",
      "sa_layer_norm.weight True\n",
      "sa_layer_norm.bias True\n",
      "ffn.lin1.weight True\n",
      "ffn.lin1.bias True\n",
      "ffn.lin2.weight True\n",
      "ffn.lin2.bias True\n",
      "output_layer_norm.weight True\n",
      "output_layer_norm.bias True\n",
      "q_lin.weight True\n",
      "q_lin.bias True\n",
      "k_lin.weight True\n",
      "k_lin.bias True\n",
      "v_lin.weight True\n",
      "v_lin.bias True\n",
      "out_lin.weight True\n",
      "out_lin.bias True\n",
      "weight True\n",
      "bias True\n",
      "weight True\n",
      "bias True\n",
      "weight True\n",
      "bias True\n",
      "weight True\n",
      "bias True\n",
      "weight True\n",
      "bias True\n",
      "lin1.weight True\n",
      "lin1.bias True\n",
      "lin2.weight True\n",
      "lin2.bias True\n",
      "weight True\n",
      "bias True\n",
      "weight True\n",
      "bias True\n",
      "weight True\n",
      "bias True\n",
      "attention.q_lin.weight True\n",
      "attention.q_lin.bias True\n",
      "attention.k_lin.weight True\n",
      "attention.k_lin.bias True\n",
      "attention.v_lin.weight True\n",
      "attention.v_lin.bias True\n",
      "attention.out_lin.weight True\n",
      "attention.out_lin.bias True\n",
      "sa_layer_norm.weight True\n",
      "sa_layer_norm.bias True\n",
      "ffn.lin1.weight True\n",
      "ffn.lin1.bias True\n",
      "ffn.lin2.weight True\n",
      "ffn.lin2.bias True\n",
      "output_layer_norm.weight True\n",
      "output_layer_norm.bias True\n",
      "q_lin.weight True\n",
      "q_lin.bias True\n",
      "k_lin.weight True\n",
      "k_lin.bias True\n",
      "v_lin.weight True\n",
      "v_lin.bias True\n",
      "out_lin.weight True\n",
      "out_lin.bias True\n",
      "weight True\n",
      "bias True\n",
      "weight True\n",
      "bias True\n",
      "weight True\n",
      "bias True\n",
      "weight True\n",
      "bias True\n",
      "weight True\n",
      "bias True\n",
      "lin1.weight True\n",
      "lin1.bias True\n",
      "lin2.weight True\n",
      "lin2.bias True\n",
      "weight True\n",
      "bias True\n",
      "weight True\n",
      "bias True\n",
      "weight True\n",
      "bias True\n",
      "attention.q_lin.weight True\n",
      "attention.q_lin.bias True\n",
      "attention.k_lin.weight True\n",
      "attention.k_lin.bias True\n",
      "attention.v_lin.weight True\n",
      "attention.v_lin.bias True\n",
      "attention.out_lin.weight True\n",
      "attention.out_lin.bias True\n",
      "sa_layer_norm.weight True\n",
      "sa_layer_norm.bias True\n",
      "ffn.lin1.weight True\n",
      "ffn.lin1.bias True\n",
      "ffn.lin2.weight True\n",
      "ffn.lin2.bias True\n",
      "output_layer_norm.weight True\n",
      "output_layer_norm.bias True\n",
      "q_lin.weight True\n",
      "q_lin.bias True\n",
      "k_lin.weight True\n",
      "k_lin.bias True\n",
      "v_lin.weight True\n",
      "v_lin.bias True\n",
      "out_lin.weight True\n",
      "out_lin.bias True\n",
      "weight True\n",
      "bias True\n",
      "weight True\n",
      "bias True\n",
      "weight True\n",
      "bias True\n",
      "weight True\n",
      "bias True\n",
      "weight True\n",
      "bias True\n",
      "lin1.weight True\n",
      "lin1.bias True\n",
      "lin2.weight True\n",
      "lin2.bias True\n",
      "weight True\n",
      "bias True\n",
      "weight True\n",
      "bias True\n",
      "weight True\n",
      "bias True\n",
      "attention.q_lin.weight True\n",
      "attention.q_lin.bias True\n",
      "attention.k_lin.weight True\n",
      "attention.k_lin.bias True\n",
      "attention.v_lin.weight True\n",
      "attention.v_lin.bias True\n",
      "attention.out_lin.weight True\n",
      "attention.out_lin.bias True\n",
      "sa_layer_norm.weight True\n",
      "sa_layer_norm.bias True\n",
      "ffn.lin1.weight True\n",
      "ffn.lin1.bias True\n",
      "ffn.lin2.weight True\n",
      "ffn.lin2.bias True\n",
      "output_layer_norm.weight True\n",
      "output_layer_norm.bias True\n",
      "q_lin.weight True\n",
      "q_lin.bias True\n",
      "k_lin.weight True\n",
      "k_lin.bias True\n",
      "v_lin.weight True\n",
      "v_lin.bias True\n",
      "out_lin.weight True\n",
      "out_lin.bias True\n",
      "weight True\n",
      "bias True\n",
      "weight True\n",
      "bias True\n",
      "weight True\n",
      "bias True\n",
      "weight True\n",
      "bias True\n",
      "weight True\n",
      "bias True\n",
      "lin1.weight True\n",
      "lin1.bias True\n",
      "lin2.weight True\n",
      "lin2.bias True\n",
      "weight True\n",
      "bias True\n",
      "weight True\n",
      "bias True\n",
      "weight True\n",
      "bias True\n",
      "attention.q_lin.weight True\n",
      "attention.q_lin.bias True\n",
      "attention.k_lin.weight True\n",
      "attention.k_lin.bias True\n",
      "attention.v_lin.weight True\n",
      "attention.v_lin.bias True\n",
      "attention.out_lin.weight True\n",
      "attention.out_lin.bias True\n",
      "sa_layer_norm.weight True\n",
      "sa_layer_norm.bias True\n",
      "ffn.lin1.weight True\n",
      "ffn.lin1.bias True\n",
      "ffn.lin2.weight True\n",
      "ffn.lin2.bias True\n",
      "output_layer_norm.weight True\n",
      "output_layer_norm.bias True\n",
      "q_lin.weight True\n",
      "q_lin.bias True\n",
      "k_lin.weight True\n",
      "k_lin.bias True\n",
      "v_lin.weight True\n",
      "v_lin.bias True\n",
      "out_lin.weight True\n",
      "out_lin.bias True\n",
      "weight True\n",
      "bias True\n",
      "weight True\n",
      "bias True\n",
      "weight True\n",
      "bias True\n",
      "weight True\n",
      "bias True\n",
      "weight True\n",
      "bias True\n",
      "lin1.weight True\n",
      "lin1.bias True\n",
      "lin2.weight True\n",
      "lin2.bias True\n",
      "weight True\n",
      "bias True\n",
      "weight True\n",
      "bias True\n",
      "weight True\n",
      "bias True\n",
      "weight True\n",
      "bias True\n",
      "1.weight True\n",
      "1.bias True\n",
      "2.weight True\n",
      "2.bias True\n",
      "5.weight True\n",
      "5.bias True\n",
      "weight True\n",
      "bias True\n",
      "weight True\n",
      "bias True\n",
      "weight True\n",
      "bias True\n"
     ]
    }
   ],
   "source": [
    "for m in model.modules():\n",
    "  for name, params in m.named_parameters():\n",
    "    print(name, params.requires_grad)"
   ]
  },
  {
   "cell_type": "code",
   "execution_count": 36,
   "metadata": {},
   "outputs": [],
   "source": [
    "tofreeze = [\"bert.transformer.layer.\"]"
   ]
  },
  {
   "cell_type": "code",
   "execution_count": 37,
   "metadata": {},
   "outputs": [
    {
     "name": "stdout",
     "output_type": "stream",
     "text": [
      "bert.transformer.layer.0.attention.q_lin.weight False\n",
      "bert.transformer.layer.0.attention.q_lin.bias False\n",
      "bert.transformer.layer.0.attention.k_lin.weight False\n",
      "bert.transformer.layer.0.attention.k_lin.bias False\n",
      "bert.transformer.layer.0.attention.v_lin.weight False\n",
      "bert.transformer.layer.0.attention.v_lin.bias False\n",
      "bert.transformer.layer.0.attention.out_lin.weight False\n",
      "bert.transformer.layer.0.attention.out_lin.bias False\n",
      "bert.transformer.layer.0.sa_layer_norm.weight False\n",
      "bert.transformer.layer.0.sa_layer_norm.bias False\n",
      "bert.transformer.layer.0.ffn.lin1.weight False\n",
      "bert.transformer.layer.0.ffn.lin1.bias False\n",
      "bert.transformer.layer.0.ffn.lin2.weight False\n",
      "bert.transformer.layer.0.ffn.lin2.bias False\n",
      "bert.transformer.layer.0.output_layer_norm.weight False\n",
      "bert.transformer.layer.0.output_layer_norm.bias False\n",
      "bert.transformer.layer.1.attention.q_lin.weight False\n",
      "bert.transformer.layer.1.attention.q_lin.bias False\n",
      "bert.transformer.layer.1.attention.k_lin.weight False\n",
      "bert.transformer.layer.1.attention.k_lin.bias False\n",
      "bert.transformer.layer.1.attention.v_lin.weight False\n",
      "bert.transformer.layer.1.attention.v_lin.bias False\n",
      "bert.transformer.layer.1.attention.out_lin.weight False\n",
      "bert.transformer.layer.1.attention.out_lin.bias False\n",
      "bert.transformer.layer.1.sa_layer_norm.weight False\n",
      "bert.transformer.layer.1.sa_layer_norm.bias False\n",
      "bert.transformer.layer.1.ffn.lin1.weight False\n",
      "bert.transformer.layer.1.ffn.lin1.bias False\n",
      "bert.transformer.layer.1.ffn.lin2.weight False\n",
      "bert.transformer.layer.1.ffn.lin2.bias False\n",
      "bert.transformer.layer.1.output_layer_norm.weight False\n",
      "bert.transformer.layer.1.output_layer_norm.bias False\n",
      "bert.transformer.layer.2.attention.q_lin.weight False\n",
      "bert.transformer.layer.2.attention.q_lin.bias False\n",
      "bert.transformer.layer.2.attention.k_lin.weight False\n",
      "bert.transformer.layer.2.attention.k_lin.bias False\n",
      "bert.transformer.layer.2.attention.v_lin.weight False\n",
      "bert.transformer.layer.2.attention.v_lin.bias False\n",
      "bert.transformer.layer.2.attention.out_lin.weight False\n",
      "bert.transformer.layer.2.attention.out_lin.bias False\n",
      "bert.transformer.layer.2.sa_layer_norm.weight False\n",
      "bert.transformer.layer.2.sa_layer_norm.bias False\n",
      "bert.transformer.layer.2.ffn.lin1.weight False\n",
      "bert.transformer.layer.2.ffn.lin1.bias False\n",
      "bert.transformer.layer.2.ffn.lin2.weight False\n",
      "bert.transformer.layer.2.ffn.lin2.bias False\n",
      "bert.transformer.layer.2.output_layer_norm.weight False\n",
      "bert.transformer.layer.2.output_layer_norm.bias False\n",
      "bert.transformer.layer.3.attention.q_lin.weight False\n",
      "bert.transformer.layer.3.attention.q_lin.bias False\n",
      "bert.transformer.layer.3.attention.k_lin.weight False\n",
      "bert.transformer.layer.3.attention.k_lin.bias False\n",
      "bert.transformer.layer.3.attention.v_lin.weight False\n",
      "bert.transformer.layer.3.attention.v_lin.bias False\n",
      "bert.transformer.layer.3.attention.out_lin.weight False\n",
      "bert.transformer.layer.3.attention.out_lin.bias False\n",
      "bert.transformer.layer.3.sa_layer_norm.weight False\n",
      "bert.transformer.layer.3.sa_layer_norm.bias False\n",
      "bert.transformer.layer.3.ffn.lin1.weight False\n",
      "bert.transformer.layer.3.ffn.lin1.bias False\n",
      "bert.transformer.layer.3.ffn.lin2.weight False\n",
      "bert.transformer.layer.3.ffn.lin2.bias False\n",
      "bert.transformer.layer.3.output_layer_norm.weight False\n",
      "bert.transformer.layer.3.output_layer_norm.bias False\n",
      "bert.transformer.layer.4.attention.q_lin.weight False\n",
      "bert.transformer.layer.4.attention.q_lin.bias False\n",
      "bert.transformer.layer.4.attention.k_lin.weight False\n",
      "bert.transformer.layer.4.attention.k_lin.bias False\n",
      "bert.transformer.layer.4.attention.v_lin.weight False\n",
      "bert.transformer.layer.4.attention.v_lin.bias False\n",
      "bert.transformer.layer.4.attention.out_lin.weight False\n",
      "bert.transformer.layer.4.attention.out_lin.bias False\n",
      "bert.transformer.layer.4.sa_layer_norm.weight False\n",
      "bert.transformer.layer.4.sa_layer_norm.bias False\n",
      "bert.transformer.layer.4.ffn.lin1.weight False\n",
      "bert.transformer.layer.4.ffn.lin1.bias False\n",
      "bert.transformer.layer.4.ffn.lin2.weight False\n",
      "bert.transformer.layer.4.ffn.lin2.bias False\n",
      "bert.transformer.layer.4.output_layer_norm.weight False\n",
      "bert.transformer.layer.4.output_layer_norm.bias False\n",
      "bert.transformer.layer.5.attention.q_lin.weight False\n",
      "bert.transformer.layer.5.attention.q_lin.bias False\n",
      "bert.transformer.layer.5.attention.k_lin.weight False\n",
      "bert.transformer.layer.5.attention.k_lin.bias False\n",
      "bert.transformer.layer.5.attention.v_lin.weight False\n",
      "bert.transformer.layer.5.attention.v_lin.bias False\n",
      "bert.transformer.layer.5.attention.out_lin.weight False\n",
      "bert.transformer.layer.5.attention.out_lin.bias False\n",
      "bert.transformer.layer.5.sa_layer_norm.weight False\n",
      "bert.transformer.layer.5.sa_layer_norm.bias False\n",
      "bert.transformer.layer.5.ffn.lin1.weight False\n",
      "bert.transformer.layer.5.ffn.lin1.bias False\n",
      "bert.transformer.layer.5.ffn.lin2.weight False\n",
      "bert.transformer.layer.5.ffn.lin2.bias False\n",
      "bert.transformer.layer.5.output_layer_norm.weight False\n",
      "bert.transformer.layer.5.output_layer_norm.bias False\n"
     ]
    }
   ],
   "source": [
    "for m in model.modules():\n",
    "  for name, params in m.named_parameters():\n",
    "    if any(prefix for prefix in tofreeze if name.startswith(prefix)):\n",
    "        params.requires_grad = False\n",
    "        print(name, params.requires_grad)"
   ]
  },
  {
   "cell_type": "code",
   "execution_count": 38,
   "metadata": {},
   "outputs": [
    {
     "name": "stdout",
     "output_type": "stream",
     "text": [
      "CyberbullyingClassifier(\n",
      "  (bert): DistilBertModel(\n",
      "    (embeddings): Embeddings(\n",
      "      (word_embeddings): Embedding(30522, 768, padding_idx=0)\n",
      "      (position_embeddings): Embedding(512, 768)\n",
      "      (LayerNorm): LayerNorm((768,), eps=1e-12, elementwise_affine=True)\n",
      "      (dropout): Dropout(p=0.1, inplace=False)\n",
      "    )\n",
      "    (transformer): Transformer(\n",
      "      (layer): ModuleList(\n",
      "        (0-5): 6 x TransformerBlock(\n",
      "          (attention): DistilBertSdpaAttention(\n",
      "            (dropout): Dropout(p=0.1, inplace=False)\n",
      "            (q_lin): Linear(in_features=768, out_features=768, bias=True)\n",
      "            (k_lin): Linear(in_features=768, out_features=768, bias=True)\n",
      "            (v_lin): Linear(in_features=768, out_features=768, bias=True)\n",
      "            (out_lin): Linear(in_features=768, out_features=768, bias=True)\n",
      "          )\n",
      "          (sa_layer_norm): LayerNorm((768,), eps=1e-12, elementwise_affine=True)\n",
      "          (ffn): FFN(\n",
      "            (dropout): Dropout(p=0.1, inplace=False)\n",
      "            (lin1): Linear(in_features=768, out_features=3072, bias=True)\n",
      "            (lin2): Linear(in_features=3072, out_features=768, bias=True)\n",
      "            (activation): GELUActivation()\n",
      "          )\n",
      "          (output_layer_norm): LayerNorm((768,), eps=1e-12, elementwise_affine=True)\n",
      "        )\n",
      "      )\n",
      "    )\n",
      "  )\n",
      "  (layer_norm): LayerNorm((768,), eps=1e-05, elementwise_affine=True)\n",
      "  (classifier): Sequential(\n",
      "    (0): Dropout(p=0.5, inplace=False)\n",
      "    (1): Linear(in_features=768, out_features=256, bias=True)\n",
      "    (2): LayerNorm((256,), eps=1e-05, elementwise_affine=True)\n",
      "    (3): ReLU()\n",
      "    (4): Dropout(p=0.5, inplace=False)\n",
      "    (5): Linear(in_features=256, out_features=1, bias=True)\n",
      "  )\n",
      ")\n"
     ]
    }
   ],
   "source": [
    "print(model)"
   ]
  },
  {
   "cell_type": "code",
   "execution_count": 39,
   "metadata": {},
   "outputs": [
    {
     "name": "stdout",
     "output_type": "stream",
     "text": [
      "\n",
      "Total parameters: 66,562,049\n",
      "Trainable parameters: 24,034,817\n"
     ]
    }
   ],
   "source": [
    "total_params = sum(p.numel() for p in model.parameters())\n",
    "trainable_params = sum(p.numel() for p in model.parameters() if p.requires_grad)\n",
    "print(f'\\nTotal parameters: {total_params:,}')\n",
    "print(f'Trainable parameters: {trainable_params:,}')"
   ]
  },
  {
   "cell_type": "code",
   "execution_count": 40,
   "metadata": {},
   "outputs": [],
   "source": [
    "optimizer = ADOPT(\n",
    "    model.parameters(), \n",
    "    lr=5e-5,\n",
    ")\n"
   ]
  },
  {
   "cell_type": "code",
   "execution_count": 41,
   "metadata": {},
   "outputs": [],
   "source": [
    "class EarlyStopping:\n",
    "    def __init__(self, patience=3, min_delta=0.001, mode='max', verbose=True):\n",
    "        \"\"\"\n",
    "        patience: Number of epochs to wait before stopping\n",
    "        min_delta: Minimum change in monitored value to qualify as an improvement\n",
    "        mode: 'min' for loss, 'max' for metrics like F1\n",
    "        \"\"\"\n",
    "        self.patience = patience\n",
    "        self.min_delta = min_delta\n",
    "        self.mode = mode\n",
    "        self.verbose = verbose\n",
    "        self.counter = 0\n",
    "        self.best_value = None\n",
    "        self.early_stop = False\n",
    "        self.min_delta *= 1 if mode == 'max' else -1\n",
    "    \n",
    "    def __call__(self, current_value):\n",
    "        if self.best_value is None:\n",
    "            self.best_value = current_value\n",
    "            return False\n",
    "        \n",
    "        if self.mode == 'max':\n",
    "            delta = current_value - self.best_value\n",
    "        else:\n",
    "            delta = self.best_value - current_value\n",
    "            \n",
    "        if delta > self.min_delta:\n",
    "            self.best_value = current_value\n",
    "            self.counter = 0\n",
    "        else:\n",
    "            self.counter += 1\n",
    "            if self.verbose:\n",
    "                print(f'EarlyStopping counter: {self.counter} out of {self.patience}')\n",
    "            if self.counter >= self.patience:\n",
    "                self.early_stop = True\n",
    "                return True\n",
    "        return False"
   ]
  },
  {
   "cell_type": "code",
   "execution_count": 42,
   "metadata": {},
   "outputs": [
    {
     "name": "stderr",
     "output_type": "stream",
     "text": [
      "/home/karthik_arun/tf/lib/python3.10/site-packages/torch/optim/lr_scheduler.py:62: UserWarning: The verbose parameter is deprecated. Please use get_last_lr() to access the learning rate.\n",
      "  warnings.warn(\n"
     ]
    }
   ],
   "source": [
    "scheduler = torch.optim.lr_scheduler.ReduceLROnPlateau(\n",
    "    optimizer,\n",
    "    mode='min',\n",
    "    factor=0.1,\n",
    "    patience=2,\n",
    "    verbose=True\n",
    ")"
   ]
  },
  {
   "cell_type": "code",
   "execution_count": 44,
   "metadata": {},
   "outputs": [
    {
     "name": "stdout",
     "output_type": "stream",
     "text": [
      "Training components initialized:\n",
      "Optimizer: ADOPT (\n",
      "Parameter Group 0\n",
      "    betas: (0.9, 0.9999)\n",
      "    capturable: False\n",
      "    decoupled: False\n",
      "    differentiable: False\n",
      "    eps: 1e-06\n",
      "    foreach: None\n",
      "    fused: None\n",
      "    lr: 5e-05\n",
      "    maximize: False\n",
      "    weight_decay: 0.0\n",
      ")\n",
      "Class weights: tensor([0.5650, 4.3471], device='cuda:0')\n"
     ]
    }
   ],
   "source": [
    "print(\"Training components initialized:\")\n",
    "# print(f\"Loss function: {criterion}\")\n",
    "print(f\"Optimizer: {optimizer}\")\n",
    "print(f\"Class weights: {class_weights}\")"
   ]
  },
  {
   "cell_type": "code",
   "execution_count": 45,
   "metadata": {},
   "outputs": [],
   "source": [
    "def generate_experiment_id(train_data_size, model_config):\n",
    "    \"\"\"Generate unique experiment ID based on data and model characteristics\"\"\"\n",
    "    # Create a unique string combining important characteristics\n",
    "    unique_str = f\"{train_data_size}_{model_config}\"\n",
    "    return hashlib.md5(unique_str.encode()).hexdigest()[:8]"
   ]
  },
  {
   "cell_type": "code",
   "execution_count": 46,
   "metadata": {},
   "outputs": [],
   "source": [
    "def train_epoch(model, train_loader, optimizer, device):\n",
    "    model.train()\n",
    "    total_loss = 0\n",
    "    predictions = []\n",
    "    true_labels = []\n",
    "\n",
    "    progress_bar = tqdm(train_loader, desc='Training')\n",
    "\n",
    "    for batch in progress_bar:\n",
    "        input_ids = batch['input_ids'].to(device)\n",
    "        attention_mask = batch['attention_mask'].to(device)\n",
    "        labels = batch['labels'].float().to(device)\n",
    "\n",
    "        optimizer.zero_grad()\n",
    "\n",
    "        outputs = model(input_ids, attention_mask)\n",
    "        loss = sigmoid_focal_loss(outputs.squeeze(), labels.float(), alpha=0.75, gamma=2.5, reduction='mean')\n",
    "        loss.backward()\n",
    "        optimizer.step()\n",
    "        total_loss += loss.item()\n",
    "\n",
    "        predictions.extend((torch.sigmoid(outputs) > 0.5).squeeze().cpu().numpy())\n",
    "        true_labels.extend(labels.cpu().numpy())\n",
    "    epoch_loss = total_loss / len(train_loader)\n",
    "    epoch_f1 = f1_score(true_labels, predictions, average='weighted')\n",
    "\n",
    "    return epoch_loss, epoch_f1"
   ]
  },
  {
   "cell_type": "code",
   "execution_count": 47,
   "metadata": {},
   "outputs": [],
   "source": [
    "def evaluate(model, val_loader, device):\n",
    "    model.eval()\n",
    "    total_loss = 0\n",
    "    predictions = []\n",
    "    true_labels = []\n",
    "\n",
    "    with torch.no_grad():\n",
    "        for batch in tqdm(val_loader, desc='Evaluating'):\n",
    "            input_ids = batch['input_ids'].to(device)\n",
    "            attention_mask = batch['attention_mask'].to(device)\n",
    "            labels = batch['labels'].to(device)\n",
    "\n",
    "            outputs = model(input_ids, attention_mask)\n",
    "            loss = sigmoid_focal_loss(outputs.squeeze(), labels.float(), alpha=0.75, gamma=2.5, reduction='mean')\n",
    "\n",
    "            total_loss += loss.item()\n",
    "\n",
    "            predictions.extend((torch.sigmoid(outputs) > 0.5).squeeze().cpu().numpy())\n",
    "            true_labels.extend(labels.cpu().numpy())\n",
    "\n",
    "    val_loss = total_loss / len(val_loader)\n",
    "    val_f1 = f1_score(true_labels, predictions, average='weighted')\n",
    "\n",
    "    report = classification_report(true_labels, predictions)\n",
    "\n",
    "    return val_loss, val_f1, report"
   ]
  },
  {
   "cell_type": "code",
   "execution_count": 48,
   "metadata": {},
   "outputs": [],
   "source": [
    "def save_checkpoint(model, optimizer, epoch, train_loss, val_loss, val_f1, \n",
    "                   experiment_id, checkpoint_type=\"last\", checkpoint_dir=\"checkpoints\"):\n",
    "    \n",
    "    exp_dir = os.path.join(checkpoint_dir, experiment_id)\n",
    "    os.makedirs(exp_dir, exist_ok=True)\n",
    "    \n",
    "    timestamp = datetime.now().strftime(\"%Y%m%d_%H%M%S\")\n",
    "    \n",
    "    checkpoint = {\n",
    "        'epoch': epoch,\n",
    "        'model_state_dict': model.state_dict(),\n",
    "        'optimizer_state_dict': optimizer.state_dict(),\n",
    "        'train_loss': train_loss,\n",
    "        'val_loss': val_loss,\n",
    "        'val_f1': val_f1,\n",
    "        'timestamp': timestamp,\n",
    "        'experiment_id': experiment_id\n",
    "    }\n",
    "    \n",
    "    filename = f\"{checkpoint_type}_checkpoint.pt\"\n",
    "    filepath = os.path.join(exp_dir, filename)\n",
    "    torch.save(checkpoint, filepath)\n",
    "    \n",
    "    metadata_file = os.path.join(exp_dir, \"experiment_info.txt\")\n",
    "    with open(metadata_file, 'a') as f:\n",
    "        f.write(f\"\\nCheckpoint saved at {timestamp}: {checkpoint_type}\")\n",
    "        f.write(f\"\\nEpoch: {epoch}, Val F1: {val_f1:.4f}\")"
   ]
  },
  {
   "cell_type": "code",
   "execution_count": 49,
   "metadata": {},
   "outputs": [],
   "source": [
    "def load_checkpoint(model, optimizer, experiment_id, checkpoint_type=\"last\", checkpoint_dir=\"checkpoints\"):\n",
    "    \"\"\"Load checkpoint for specific experiment\"\"\"\n",
    "    exp_dir = os.path.join(checkpoint_dir, experiment_id)\n",
    "    filename = os.path.join(exp_dir, f\"{checkpoint_type}_checkpoint.pt\")\n",
    "    \n",
    "    if os.path.exists(filename):\n",
    "        print(f\"Loading checkpoint from experiment {experiment_id}\")\n",
    "        checkpoint = torch.load(filename)\n",
    "        model.load_state_dict(checkpoint['model_state_dict'])\n",
    "        optimizer.load_state_dict(checkpoint['optimizer_state_dict'])\n",
    "        start_epoch = checkpoint['epoch'] + 1\n",
    "        best_val_f1 = checkpoint.get('val_f1', 0)\n",
    "        print(f\"Resuming from epoch {start_epoch} with validation F1: {best_val_f1:.4f}\")\n",
    "        return start_epoch, best_val_f1\n",
    "    return 0, 0"
   ]
  },
  {
   "cell_type": "code",
   "execution_count": 50,
   "metadata": {},
   "outputs": [],
   "source": [
    "def train_model(model, train_loader, val_loader, optimizer, scheduler,\n",
    "                device, experiment_id=None, checkpoint_dir=\"checkpoints\", num_epochs=5):\n",
    "    \"\"\"Training with experiment tracking\"\"\"\n",
    "    \n",
    "    # Generate experiment ID if not provided\n",
    "    if experiment_id is None:\n",
    "        experiment_id = generate_experiment_id(\n",
    "            train_data_size=len(train_loader.dataset),\n",
    "            model_config=model.__class__.__name__\n",
    "        )\n",
    "    \n",
    "    print(f\"Starting experiment: {experiment_id}\")\n",
    "    \n",
    "    # Create experiment directory\n",
    "    exp_dir = os.path.join(checkpoint_dir, experiment_id)\n",
    "    os.makedirs(exp_dir, exist_ok=True)\n",
    "    \n",
    "    # Save experiment configuration\n",
    "    with open(os.path.join(exp_dir, \"experiment_info.txt\"), 'w') as f:\n",
    "        f.write(f\"Experiment ID: {experiment_id}\\n\")\n",
    "        f.write(f\"Start time: {datetime.now().strftime('%Y-%m-%d %H:%M:%S')}\\n\")\n",
    "        f.write(f\"Dataset size: {len(train_loader.dataset)}\\n\")\n",
    "        f.write(f\"Model: {model.__class__.__name__}\\n\")\n",
    "        f.write(f\"Number of epochs: {num_epochs}\\n\")\n",
    "    \n",
    "    # Try to load previous checkpoint\n",
    "    start_epoch, best_val_f1 = load_checkpoint(\n",
    "        model, optimizer, experiment_id, \n",
    "        checkpoint_type=\"last\", checkpoint_dir=checkpoint_dir\n",
    "    )\n",
    "    \n",
    "    early_stopping = EarlyStopping(\n",
    "        patience=2,\n",
    "        min_delta=0.001,\n",
    "        mode='max',\n",
    "        verbose=True\n",
    "    )\n",
    "\n",
    "    history = {\n",
    "        'train_loss': [], 'train_f1': [],\n",
    "        'val_loss': [], 'val_f1': []\n",
    "    }\n",
    "\n",
    "    print(\"Starting training...\")\n",
    "    for epoch in range(start_epoch, num_epochs):\n",
    "        print(f\"\\nEpoch {epoch+1}/{num_epochs}\")\n",
    "\n",
    "        train_loss, train_f1 = train_epoch(\n",
    "            model, train_loader, optimizer, device\n",
    "        )\n",
    "\n",
    "        val_loss, val_f1, val_report = evaluate(\n",
    "            model, val_loader, device\n",
    "        )\n",
    "\n",
    "        scheduler.step(val_loss)\n",
    "\n",
    "        # Update history\n",
    "        history['train_loss'].append(train_loss)\n",
    "        history['train_f1'].append(train_f1)\n",
    "        history['val_loss'].append(val_loss)\n",
    "        history['val_f1'].append(val_f1)\n",
    "\n",
    "        print(f\"\\nTrain Loss: {train_loss:.4f} | Train F1: {train_f1:.4f}\")\n",
    "        print(f\"Val Loss: {val_loss:.4f} | Val F1: {val_f1:.4f}\")\n",
    "        print(\"\\nValidation Classification Report:\")\n",
    "        print(val_report)\n",
    "\n",
    "        # Save regular checkpoint\n",
    "        save_checkpoint(\n",
    "            model, optimizer, epoch, train_loss, val_loss, val_f1,\n",
    "            experiment_id, \"last\", checkpoint_dir\n",
    "        )\n",
    "        \n",
    "        # Save best model\n",
    "        if val_f1 > best_val_f1:\n",
    "            best_val_f1 = val_f1\n",
    "            save_checkpoint(\n",
    "                model, optimizer, epoch, train_loss, val_loss, val_f1,\n",
    "                experiment_id, \"best\", checkpoint_dir\n",
    "            )\n",
    "            print(f\"New best model saved with validation F1: {val_f1:.4f}\")\n",
    "        \n",
    "        if early_stopping(val_f1):\n",
    "            print(f\"\\nEarly stopping triggered after epoch {epoch+1}\")\n",
    "            break\n",
    "\n",
    "        if train_f1 - val_f1 > 0.03:\n",
    "            print(\"\\nStopping due to increasing train-val performance gap\")\n",
    "            break\n",
    "\n",
    "    return history, experiment_id"
   ]
  },
  {
   "cell_type": "code",
   "execution_count": 51,
   "metadata": {},
   "outputs": [
    {
     "name": "stdout",
     "output_type": "stream",
     "text": [
      "Starting experiment: full-data-no-aug\n",
      "Loading checkpoint from experiment full-data-no-aug\n"
     ]
    },
    {
     "name": "stderr",
     "output_type": "stream",
     "text": [
      "/tmp/ipykernel_60608/3368541446.py:8: FutureWarning: You are using `torch.load` with `weights_only=False` (the current default value), which uses the default pickle module implicitly. It is possible to construct malicious pickle data which will execute arbitrary code during unpickling (See https://github.com/pytorch/pytorch/blob/main/SECURITY.md#untrusted-models for more details). In a future release, the default value for `weights_only` will be flipped to `True`. This limits the functions that could be executed during unpickling. Arbitrary objects will no longer be allowed to be loaded via this mode unless they are explicitly allowlisted by the user via `torch.serialization.add_safe_globals`. We recommend you start setting `weights_only=True` for any use case where you don't have full control of the loaded file. Please open an issue on GitHub for any issues related to this experimental feature.\n",
      "  checkpoint = torch.load(filename)\n"
     ]
    },
    {
     "name": "stdout",
     "output_type": "stream",
     "text": [
      "Resuming from epoch 1 with validation F1: 0.9051\n",
      "Starting training...\n"
     ]
    }
   ],
   "source": [
    "experiment_id = \"full-data-no-aug\"\n",
    "history, exp_id = train_model(\n",
    "    model=model,\n",
    "    train_loader=train_loader,\n",
    "    val_loader=val_loader,\n",
    "    optimizer=optimizer,\n",
    "    scheduler=scheduler,\n",
    "    device=device,\n",
    "    experiment_id=experiment_id,\n",
    "    checkpoint_dir=\"cyberbullying_checkpoints\",\n",
    "    num_epochs=1\n",
    ")"
   ]
  },
  {
   "cell_type": "code",
   "execution_count": 52,
   "metadata": {},
   "outputs": [
    {
     "data": {
      "text/plain": [
       "{'train_loss': [], 'train_f1': [], 'val_loss': [], 'val_f1': []}"
      ]
     },
     "execution_count": 52,
     "metadata": {},
     "output_type": "execute_result"
    }
   ],
   "source": [
    "history"
   ]
  },
  {
   "cell_type": "code",
   "execution_count": 67,
   "metadata": {},
   "outputs": [
    {
     "data": {
      "image/png": "[encoded data removed]",
      "text/plain": [
       "<Figure size 1500x500 with 2 Axes>"
      ]
     },
     "metadata": {},
     "output_type": "display_data"
    }
   ],
   "source": [
    "# 1. Plot Training History\n",
    "import matplotlib.pyplot as plt\n",
    "\n",
    "\n",
    "def plot_training_history(history):\n",
    "    fig, (ax1, ax2) = plt.subplots(1, 2, figsize=(15, 5))\n",
    "    \n",
    "    # Loss plot\n",
    "    ax1.plot(history['train_loss'], label='Training Loss')\n",
    "    ax1.plot(history['val_loss'], label='Validation Loss')\n",
    "    ax1.set_title('Loss Over Epochs')\n",
    "    ax1.set_xlabel('Epoch')\n",
    "    ax1.set_ylabel('Loss')\n",
    "    ax1.legend()\n",
    "    ax1.grid(True)\n",
    "    \n",
    "    # F1 Score plot\n",
    "    ax2.plot(history['train_f1'], label='Training F1')\n",
    "    ax2.plot(history['val_f1'], label='Validation F1')\n",
    "    ax2.set_title('F1 Score Over Epochs')\n",
    "    ax2.set_xlabel('Epoch')\n",
    "    ax2.set_ylabel('F1 Score')\n",
    "    ax2.legend()\n",
    "    ax2.grid(True)\n",
    "    \n",
    "    plt.tight_layout()\n",
    "    plt.show()\n",
    "\n",
    "plot_training_history(history)"
   ]
  },
  {
   "cell_type": "code",
   "execution_count": 70,
   "metadata": {},
   "outputs": [],
   "source": [
    "def evaluate_and_visualize(model_path, test_loader, device):\n",
    "\n",
    "    def evaluate_test_set(model, test_loader, device):\n",
    "        model.eval()\n",
    "        all_predictions = []\n",
    "        all_labels = []\n",
    "        test_loss = 0\n",
    "        \n",
    "        with torch.no_grad():\n",
    "            for batch in tqdm(test_loader, desc='Testing'):\n",
    "                input_ids = batch['input_ids'].to(device)\n",
    "                attention_mask = batch['attention_mask'].to(device)\n",
    "                labels = batch['labels'].float().to(device)  # Convert to float for focal loss\n",
    "                \n",
    "                outputs = model(input_ids, attention_mask)\n",
    "                \n",
    "                # Calculate focal loss\n",
    "                loss = sigmoid_focal_loss(\n",
    "                    outputs.squeeze(),\n",
    "                    labels,\n",
    "                    alpha=0.75,\n",
    "                    gamma=2.5,\n",
    "                    reduction='mean'\n",
    "                )\n",
    "                test_loss += loss.item()\n",
    "                \n",
    "                # Get predictions using sigmoid\n",
    "                predictions = (torch.sigmoid(outputs) > 0.5).squeeze().cpu().numpy()\n",
    "                all_predictions.extend(predictions)\n",
    "                all_labels.extend(labels.cpu().numpy())\n",
    "        \n",
    "        test_report = classification_report(all_labels, all_predictions)\n",
    "        conf_matrix = confusion_matrix(all_labels, all_predictions)\n",
    "        \n",
    "        return test_loss/len(test_loader), test_report, conf_matrix\n",
    "    \n",
    "    model = CyberbullyingClassifier()\n",
    "    model.load_state_dict(torch.load(model_path)['model_state_dict'])\n",
    "    model = model.to(device)\n",
    "    model.eval()\n",
    "    \n",
    "    test_loss, test_report, conf_matrix = evaluate_test_set(model, test_loader, device)\n",
    "    \n",
    "    print(\"\\nTest Set Results:\")\n",
    "    print(\"-\" * 50)\n",
    "    print(\"\\nClassification Report:\")\n",
    "    print(test_report)\n",
    "    \n",
    "    plt.figure(figsize=(8, 6))\n",
    "    sns.heatmap(conf_matrix, annot=True, fmt='d', cmap='Blues')\n",
    "    plt.title('Confusion Matrix')\n",
    "    plt.ylabel('True Label')\n",
    "    plt.xlabel('Predicted Label')\n",
    "    plt.show()\n",
    "    \n",
    "    return {\n",
    "        'test_loss': test_loss,\n",
    "        'test_report': test_report,\n",
    "        'conf_matrix': conf_matrix\n",
    "    }\n"
   ]
  },
  {
   "cell_type": "code",
   "execution_count": 72,
   "metadata": {},
   "outputs": [
    {
     "name": "stderr",
     "output_type": "stream",
     "text": [
      "/tmp/ipykernel_60608/296714033.py:38: FutureWarning: You are using `torch.load` with `weights_only=False` (the current default value), which uses the default pickle module implicitly. It is possible to construct malicious pickle data which will execute arbitrary code during unpickling (See https://github.com/pytorch/pytorch/blob/main/SECURITY.md#untrusted-models for more details). In a future release, the default value for `weights_only` will be flipped to `True`. This limits the functions that could be executed during unpickling. Arbitrary objects will no longer be allowed to be loaded via this mode unless they are explicitly allowlisted by the user via `torch.serialization.add_safe_globals`. We recommend you start setting `weights_only=True` for any use case where you don't have full control of the loaded file. Please open an issue on GitHub for any issues related to this experimental feature.\n",
      "  model.load_state_dict(torch.load(model_path)['model_state_dict'])\n",
      "Testing: 100%|██████████| 562/562 [01:13<00:00,  7.65it/s]\n"
     ]
    },
    {
     "name": "stdout",
     "output_type": "stream",
     "text": [
      "\n",
      "Test Set Results:\n",
      "--------------------------------------------------\n",
      "\n",
      "Classification Report:\n",
      "              precision    recall  f1-score   support\n",
      "\n",
      "         0.0       0.97      0.92      0.94     31789\n",
      "         1.0       0.55      0.76      0.64      4131\n",
      "\n",
      "    accuracy                           0.90     35920\n",
      "   macro avg       0.76      0.84      0.79     35920\n",
      "weighted avg       0.92      0.90      0.91     35920\n",
      "\n"
     ]
    },
    {
     "data": {
      "image/png": "[encoded data removed]",
      "text/plain": [
       "<Figure size 800x600 with 2 Axes>"
      ]
     },
     "metadata": {},
     "output_type": "display_data"
    }
   ],
   "source": [
    "results = evaluate_and_visualize(\n",
    "    model_path='/home/karthik_arun/ml/cyberbullying_checkpoints/full-data-no-aug/best_checkpoint.pt',\n",
    "    test_loader=test_loader,\n",
    "    device=device\n",
    ")"
   ]
  },
  {
   "cell_type": "markdown",
   "metadata": {},
   "source": [
    "## Augmenting the dataset with nlpaug "
   ]
  },
  {
   "cell_type": "code",
   "execution_count": 21,
   "metadata": {},
   "outputs": [],
   "source": [
    "def augment_toxic_samples(train_df):\n",
    "    aug = nlpaw.ContextualWordEmbsAug(\n",
    "        model_path='bert-base-uncased', \n",
    "        aug_min=1,\n",
    "        aug_p=0.1,\n",
    "        action=\"substitute\",\n",
    "        device = 'cuda'\n",
    "    )\n",
    "    \n",
    "    toxic_samples = train_df[train_df['oh_label'] == 1]\n",
    "    \n",
    "    augmented_texts = []\n",
    "    augmented_labels = []\n",
    "    \n",
    "    print(\"Augmenting toxic samples...\")\n",
    "    for _, row in tqdm(toxic_samples.iterrows()):\n",
    "        for _ in range(2):\n",
    "            aug_text = aug.augment(row['processed_text'], num_thread=4)[0]\n",
    "            augmented_texts.append(aug_text)\n",
    "            augmented_labels.append(1)\n",
    "    \n",
    "    aug_df = pd.DataFrame({\n",
    "        'processed_text': augmented_texts,\n",
    "        'oh_label': augmented_labels\n",
    "    })\n",
    "    \n",
    "    combined_train_df = pd.concat([train_df, aug_df], ignore_index=True)\n",
    "    combined_train_df = combined_train_df.sample(frac=1, random_state=42).reset_index(drop=True)\n",
    "    \n",
    "    print(f\"Original training set size: {len(train_df)}\")\n",
    "    print(f\"Augmented training set size: {len(combined_train_df)}\")\n",
    "    print(\"\\nClass distribution in augmented training set:\")\n",
    "    print(combined_train_df['oh_label'].value_counts(normalize=True))\n",
    "    \n",
    "    return combined_train_df\n"
   ]
  },
  {
   "cell_type": "code",
   "execution_count": 22,
   "metadata": {},
   "outputs": [
    {
     "name": "stdout",
     "output_type": "stream",
     "text": [
      "Augmenting toxic samples...\n"
     ]
    },
    {
     "name": "stderr",
     "output_type": "stream",
     "text": [
      "19291it [21:19, 15.07it/s]"
     ]
    },
    {
     "name": "stdout",
     "output_type": "stream",
     "text": [
      "Original training set size: 167721\n",
      "Augmented training set size: 206303\n",
      "\n",
      "Class distribution in augmented training set:\n",
      "oh_label\n",
      "0    0.719476\n",
      "1    0.280524\n",
      "Name: proportion, dtype: float64\n"
     ]
    },
    {
     "name": "stderr",
     "output_type": "stream",
     "text": [
      "\n"
     ]
    }
   ],
   "source": [
    "augmented_train_df = augment_toxic_samples(train_df)"
   ]
  },
  {
   "cell_type": "code",
   "execution_count": 25,
   "metadata": {},
   "outputs": [
    {
     "data": {
      "text/html": [
       "<div>\n",
       "<style scoped>\n",
       "    .dataframe tbody tr th:only-of-type {\n",
       "        vertical-align: middle;\n",
       "    }\n",
       "\n",
       "    .dataframe tbody tr th {\n",
       "        vertical-align: top;\n",
       "    }\n",
       "\n",
       "    .dataframe thead th {\n",
       "        text-align: right;\n",
       "    }\n",
       "</style>\n",
       "<table border=\"1\" class=\"dataframe\">\n",
       "  <thead>\n",
       "    <tr style=\"text-align: right;\">\n",
       "      <th></th>\n",
       "      <th>processed_text</th>\n",
       "      <th>oh_label</th>\n",
       "    </tr>\n",
       "  </thead>\n",
       "  <tbody>\n",
       "    <tr>\n",
       "      <th>0</th>\n",
       "      <td>november utc well guy going ask blocked intere...</td>\n",
       "      <td>0</td>\n",
       "    </tr>\n",
       "    <tr>\n",
       "      <th>1</th>\n",
       "      <td>talk</td>\n",
       "      <td>0</td>\n",
       "    </tr>\n",
       "    <tr>\n",
       "      <th>2</th>\n",
       "      <td>moved image piccolo daimao section list supern...</td>\n",
       "      <td>0</td>\n",
       "    </tr>\n",
       "    <tr>\n",
       "      <th>3</th>\n",
       "      <td>whoever wrote comment fuckin hero wooooo when</td>\n",
       "      <td>1</td>\n",
       "    </tr>\n",
       "    <tr>\n",
       "      <th>4</th>\n",
       "      <td>pet weasel</td>\n",
       "      <td>0</td>\n",
       "    </tr>\n",
       "  </tbody>\n",
       "</table>\n",
       "</div>"
      ],
      "text/plain": [
       "                                      processed_text  oh_label\n",
       "0  november utc well guy going ask blocked intere...         0\n",
       "1                                               talk         0\n",
       "2  moved image piccolo daimao section list supern...         0\n",
       "3      whoever wrote comment fuckin hero wooooo when         1\n",
       "4                                         pet weasel         0"
      ]
     },
     "execution_count": 25,
     "metadata": {},
     "output_type": "execute_result"
    }
   ],
   "source": [
    "augmented_train_df.head()"
   ]
  },
  {
   "cell_type": "code",
   "execution_count": 28,
   "metadata": {},
   "outputs": [
    {
     "name": "stdout",
     "output_type": "stream",
     "text": [
      "Dataset Statistics:\n",
      "--------------------------------------------------\n",
      "Original Training Set:\n",
      "oh_label\n",
      "0    148430\n",
      "1     19291\n",
      "Name: count, dtype: int64\n",
      "\n",
      "Augmented Training Set:\n",
      "oh_label\n",
      "0    148430\n",
      "1     57873\n",
      "Name: count, dtype: int64\n",
      "\n",
      "New samples generated: 38582\n"
     ]
    }
   ],
   "source": [
    "print(\"Dataset Statistics:\")\n",
    "print(\"-\" * 50)\n",
    "print(\"Original Training Set:\")\n",
    "print(train_df['oh_label'].value_counts())\n",
    "print(\"\\nAugmented Training Set:\")\n",
    "print(augmented_train_df['oh_label'].value_counts())\n",
    "\n",
    "new_samples = len(augmented_train_df) - len(train_df)\n",
    "print(f\"\\nNew samples generated: {new_samples}\")\n"
   ]
  },
  {
   "cell_type": "code",
   "execution_count": 62,
   "metadata": {},
   "outputs": [],
   "source": [
    "train_dataset = CyberbullyingDataset(augmented_train_df, tokenizer)"
   ]
  },
  {
   "cell_type": "code",
   "execution_count": 63,
   "metadata": {},
   "outputs": [],
   "source": [
    "train_loader = DataLoader(\n",
    "    train_dataset,\n",
    "    batch_size=32,\n",
    "    shuffle=True,\n",
    "    num_workers=0\n",
    ")"
   ]
  },
  {
   "cell_type": "code",
   "execution_count": 64,
   "metadata": {},
   "outputs": [
    {
     "name": "stdout",
     "output_type": "stream",
     "text": [
      "Starting training...\n",
      "\n",
      "Epoch 1/4\n"
     ]
    },
    {
     "name": "stderr",
     "output_type": "stream",
     "text": [
      "Training: 100%|██████████| 6447/6447 [16:38<00:00,  6.46it/s, loss=0.0113]\n",
      "Evaluating: 100%|██████████| 560/560 [01:21<00:00,  6.88it/s]\n"
     ]
    },
    {
     "name": "stdout",
     "output_type": "stream",
     "text": [
      "\n",
      "Train Loss: 0.0182 | Train F1: 0.8810\n",
      "Val Loss: 0.0134 | Val F1: 0.9182\n",
      "\n",
      "Validation Classification Report:\n",
      "              precision    recall  f1-score   support\n",
      "\n",
      "           0       0.96      0.94      0.95     31704\n",
      "           1       0.62      0.71      0.66      4120\n",
      "\n",
      "    accuracy                           0.92     35824\n",
      "   macro avg       0.79      0.83      0.81     35824\n",
      "weighted avg       0.92      0.92      0.92     35824\n",
      "\n",
      "\n",
      "Epoch 2/4\n"
     ]
    },
    {
     "name": "stderr",
     "output_type": "stream",
     "text": [
      "Training: 100%|██████████| 6447/6447 [16:38<00:00,  6.45it/s, loss=0.0069]\n",
      "Evaluating: 100%|██████████| 560/560 [01:21<00:00,  6.85it/s]\n"
     ]
    },
    {
     "name": "stdout",
     "output_type": "stream",
     "text": [
      "\n",
      "Train Loss: 0.0120 | Train F1: 0.9256\n",
      "Val Loss: 0.0141 | Val F1: 0.9162\n",
      "\n",
      "Validation Classification Report:\n",
      "              precision    recall  f1-score   support\n",
      "\n",
      "           0       0.96      0.94      0.95     31704\n",
      "           1       0.60      0.73      0.66      4120\n",
      "\n",
      "    accuracy                           0.91     35824\n",
      "   macro avg       0.78      0.83      0.80     35824\n",
      "weighted avg       0.92      0.91      0.92     35824\n",
      "\n",
      "EarlyStopping counter: 1 out of 2\n",
      "\n",
      "Epoch 3/4\n"
     ]
    },
    {
     "name": "stderr",
     "output_type": "stream",
     "text": [
      "Training: 100%|██████████| 6447/6447 [17:00<00:00,  6.32it/s, loss=0.0057]\n",
      "Evaluating: 100%|██████████| 560/560 [01:20<00:00,  6.93it/s]"
     ]
    },
    {
     "name": "stdout",
     "output_type": "stream",
     "text": [
      "\n",
      "Train Loss: 0.0098 | Train F1: 0.9390\n",
      "Val Loss: 0.0149 | Val F1: 0.9173\n",
      "\n",
      "Validation Classification Report:\n",
      "              precision    recall  f1-score   support\n",
      "\n",
      "           0       0.96      0.94      0.95     31704\n",
      "           1       0.60      0.73      0.66      4120\n",
      "\n",
      "    accuracy                           0.91     35824\n",
      "   macro avg       0.78      0.83      0.81     35824\n",
      "weighted avg       0.92      0.91      0.92     35824\n",
      "\n",
      "EarlyStopping counter: 2 out of 2\n",
      "\n",
      "Early stopping triggered after epoch 3\n"
     ]
    },
    {
     "name": "stderr",
     "output_type": "stream",
     "text": [
      "\n"
     ]
    }
   ],
   "source": [
    "num_epochs = 4\n",
    "\n",
    "history = train_model(\n",
    "    model=model,\n",
    "    train_loader=train_loader,\n",
    "    val_loader=val_loader,\n",
    "    optimizer=optimizer,\n",
    "    scheduler=scheduler,\n",
    "    device=device,\n",
    "    num_epochs=num_epochs\n",
    ")"
   ]
  },
  {
   "cell_type": "code",
   "execution_count": 67,
   "metadata": {},
   "outputs": [
    {
     "data": {
      "image/png": "[encoded data removed]",
      "text/plain": [
       "<Figure size 1500x500 with 2 Axes>"
      ]
     },
     "metadata": {},
     "output_type": "display_data"
    },
    {
     "name": "stderr",
     "output_type": "stream",
     "text": [
      "/tmp/ipykernel_26844/1423645951.py:6: FutureWarning: You are using `torch.load` with `weights_only=False` (the current default value), which uses the default pickle module implicitly. It is possible to construct malicious pickle data which will execute arbitrary code during unpickling (See https://github.com/pytorch/pytorch/blob/main/SECURITY.md#untrusted-models for more details). In a future release, the default value for `weights_only` will be flipped to `True`. This limits the functions that could be executed during unpickling. Arbitrary objects will no longer be allowed to be loaded via this mode unless they are explicitly allowlisted by the user via `torch.serialization.add_safe_globals`. We recommend you start setting `weights_only=True` for any use case where you don't have full control of the loaded file. Please open an issue on GitHub for any issues related to this experimental feature.\n",
      "  best_model.load_state_dict(torch.load('best_model.pt')['model_state_dict'])\n",
      "Testing: 100%|██████████| 562/562 [01:16<00:00,  7.30it/s]\n"
     ]
    },
    {
     "name": "stdout",
     "output_type": "stream",
     "text": [
      "\n",
      "Test Set Results:\n",
      "--------------------------------------------------\n",
      "\n",
      "Classification Report:\n",
      "              precision    recall  f1-score   support\n",
      "\n",
      "           0       0.96      0.94      0.95     31789\n",
      "           1       0.62      0.70      0.66      4131\n",
      "\n",
      "    accuracy                           0.92     35920\n",
      "   macro avg       0.79      0.82      0.80     35920\n",
      "weighted avg       0.92      0.92      0.92     35920\n",
      "\n"
     ]
    },
    {
     "data": {
      "image/png": "[encoded data removed]",
      "text/plain": [
       "<Figure size 800x600 with 2 Axes>"
      ]
     },
     "metadata": {},
     "output_type": "display_data"
    }
   ],
   "source": [
    "# Plot training history\n",
    "plot_training_history(history)\n",
    "\n",
    "# Load best model and evaluate on test set\n",
    "best_model = CyberbullyingClassifier()\n",
    "best_model.load_state_dict(torch.load('best_model.pt')['model_state_dict'])\n",
    "best_model = best_model.to(device)\n",
    "\n",
    "test_loss, test_report, conf_matrix = evaluate_test_set(best_model, test_loader, criterion, device)\n",
    "\n",
    "# Print test results\n",
    "print(\"\\nTest Set Results:\")\n",
    "print(\"-\" * 50)\n",
    "print(\"\\nClassification Report:\")\n",
    "print(test_report)\n",
    "\n",
    "# Plot confusion matrix\n",
    "plt.figure(figsize=(8, 6))\n",
    "sns.heatmap(conf_matrix, annot=True, fmt='d', cmap='Blues')\n",
    "plt.title('Confusion Matrix')\n",
    "plt.ylabel('True Label')\n",
    "plt.xlabel('Predicted Label')\n",
    "plt.show()\n",
    "\n",
    "# Save test results\n",
    "with open('test_results.txt', 'w') as f:\n",
    "    f.write(\"Test Set Results\\n\")\n",
    "    f.write(\"-\" * 50 + \"\\n\")\n",
    "    f.write(\"\\nClassification Report:\\n\")\n",
    "    f.write(test_report)\n"
   ]
  },
  {
   "cell_type": "markdown",
   "metadata": {},
   "source": [
    "## Downsampling Non-Toxic Tweets"
   ]
  },
  {
   "cell_type": "code",
   "execution_count": 61,
   "metadata": {},
   "outputs": [],
   "source": [
    "def downsample_majority_class(df):\n",
    "    toxic = df[df['oh_label'] == 1]\n",
    "    non_toxic = df[df['oh_label'] == 0]\n",
    "    \n",
    "    downsampled_non_toxic = resample(\n",
    "        non_toxic,\n",
    "        replace=False,\n",
    "        n_samples=len(non_toxic)//2,\n",
    "        random_state=42\n",
    "    )\n",
    "    \n",
    "    downsampled_df = pd.concat([toxic, downsampled_non_toxic], ignore_index=True)\n",
    "    return downsampled_df.sample(frac=1, random_state=42).reset_index(drop=True)"
   ]
  },
  {
   "cell_type": "code",
   "execution_count": 62,
   "metadata": {},
   "outputs": [
    {
     "name": "stdout",
     "output_type": "stream",
     "text": [
      "Original distribution: oh_label\n",
      "0    148430\n",
      "1     19291\n",
      "Name: count, dtype: int64\n",
      "Downsampled distribution: oh_label\n",
      "0    74215\n",
      "1    19291\n",
      "Name: count, dtype: int64\n"
     ]
    }
   ],
   "source": [
    "downsampled_train_df = downsample_majority_class(train_df)\n",
    "print(\"Original distribution:\", train_df['oh_label'].value_counts())\n",
    "print(\"Downsampled distribution:\", downsampled_train_df['oh_label'].value_counts())"
   ]
  },
  {
   "cell_type": "code",
   "execution_count": 63,
   "metadata": {},
   "outputs": [],
   "source": [
    "train_dataset_downsampled = CyberbullyingDataset(downsampled_train_df, tokenizer)\n",
    "train_loader_downsampled = DataLoader(\n",
    "    train_dataset_downsampled,\n",
    "    batch_size=32,\n",
    "    shuffle=True,\n",
    "    num_workers=0\n",
    ")"
   ]
  },
  {
   "cell_type": "code",
   "execution_count": 64,
   "metadata": {},
   "outputs": [
    {
     "name": "stderr",
     "output_type": "stream",
     "text": [
      "/home/karthik_arun/tf/lib/python3.10/site-packages/torch/optim/lr_scheduler.py:62: UserWarning: The verbose parameter is deprecated. Please use get_last_lr() to access the learning rate.\n",
      "  warnings.warn(\n"
     ]
    }
   ],
   "source": [
    "model = CyberbullyingClassifier().to(device)\n",
    "optimizer = ADOPT(model.parameters(), lr=5e-5)\n",
    "scheduler = torch.optim.lr_scheduler.ReduceLROnPlateau(\n",
    "    optimizer, mode='min', factor=0.1, patience=2, verbose=True\n",
    ")"
   ]
  },
  {
   "cell_type": "code",
   "execution_count": 65,
   "metadata": {},
   "outputs": [
    {
     "name": "stdout",
     "output_type": "stream",
     "text": [
      "Starting experiment: downsampled-data-no-aug\n",
      "Starting training...\n",
      "\n",
      "Epoch 1/5\n"
     ]
    },
    {
     "name": "stderr",
     "output_type": "stream",
     "text": [
      "Training: 100%|██████████| 2923/2923 [10:42<00:00,  4.55it/s]\n",
      "Evaluating: 100%|██████████| 560/560 [01:21<00:00,  6.90it/s]\n"
     ]
    },
    {
     "name": "stdout",
     "output_type": "stream",
     "text": [
      "\n",
      "Train Loss: 0.0277 | Train F1: 0.8307\n",
      "Val Loss: 0.0174 | Val F1: 0.9043\n",
      "\n",
      "Validation Classification Report:\n",
      "              precision    recall  f1-score   support\n",
      "\n",
      "           0       0.97      0.91      0.94     31704\n",
      "           1       0.54      0.77      0.63      4120\n",
      "\n",
      "    accuracy                           0.90     35824\n",
      "   macro avg       0.75      0.84      0.79     35824\n",
      "weighted avg       0.92      0.90      0.90     35824\n",
      "\n",
      "New best model saved with validation F1: 0.9043\n",
      "\n",
      "Epoch 2/5\n"
     ]
    },
    {
     "name": "stderr",
     "output_type": "stream",
     "text": [
      "Training: 100%|██████████| 2923/2923 [11:05<00:00,  4.39it/s]\n",
      "Evaluating: 100%|██████████| 560/560 [01:21<00:00,  6.91it/s]\n"
     ]
    },
    {
     "name": "stdout",
     "output_type": "stream",
     "text": [
      "\n",
      "Train Loss: 0.0188 | Train F1: 0.8903\n",
      "Val Loss: 0.0174 | Val F1: 0.8971\n",
      "\n",
      "Validation Classification Report:\n",
      "              precision    recall  f1-score   support\n",
      "\n",
      "           0       0.97      0.89      0.93     31704\n",
      "           1       0.50      0.82      0.62      4120\n",
      "\n",
      "    accuracy                           0.89     35824\n",
      "   macro avg       0.74      0.86      0.78     35824\n",
      "weighted avg       0.92      0.89      0.90     35824\n",
      "\n",
      "EarlyStopping counter: 1 out of 2\n",
      "\n",
      "Epoch 3/5\n"
     ]
    },
    {
     "name": "stderr",
     "output_type": "stream",
     "text": [
      "Training: 100%|██████████| 2923/2923 [11:08<00:00,  4.37it/s]\n",
      "Evaluating: 100%|██████████| 560/560 [01:22<00:00,  6.79it/s]\n"
     ]
    },
    {
     "name": "stdout",
     "output_type": "stream",
     "text": [
      "\n",
      "Train Loss: 0.0139 | Train F1: 0.9200\n",
      "Val Loss: 0.0213 | Val F1: 0.8839\n",
      "\n",
      "Validation Classification Report:\n",
      "              precision    recall  f1-score   support\n",
      "\n",
      "           0       0.98      0.87      0.92     31704\n",
      "           1       0.46      0.85      0.60      4120\n",
      "\n",
      "    accuracy                           0.87     35824\n",
      "   macro avg       0.72      0.86      0.76     35824\n",
      "weighted avg       0.92      0.87      0.88     35824\n",
      "\n",
      "EarlyStopping counter: 2 out of 2\n",
      "\n",
      "Early stopping triggered after epoch 3\n"
     ]
    }
   ],
   "source": [
    "experiment_id = \"downsampled-data-no-aug\"  \n",
    "history, exp_id = train_model(\n",
    "    model=model,\n",
    "    train_loader=train_loader_downsampled,  \n",
    "    val_loader=val_loader,                  \n",
    "    optimizer=optimizer,\n",
    "    scheduler=scheduler,\n",
    "    device=device,\n",
    "    experiment_id=experiment_id,\n",
    "    checkpoint_dir=\"cyberbullying_checkpoints\",\n",
    "    num_epochs=5\n",
    ")\n"
   ]
  },
  {
   "cell_type": "code",
   "execution_count": 73,
   "metadata": {},
   "outputs": [
    {
     "name": "stderr",
     "output_type": "stream",
     "text": [
      "/tmp/ipykernel_60608/296714033.py:38: FutureWarning: You are using `torch.load` with `weights_only=False` (the current default value), which uses the default pickle module implicitly. It is possible to construct malicious pickle data which will execute arbitrary code during unpickling (See https://github.com/pytorch/pytorch/blob/main/SECURITY.md#untrusted-models for more details). In a future release, the default value for `weights_only` will be flipped to `True`. This limits the functions that could be executed during unpickling. Arbitrary objects will no longer be allowed to be loaded via this mode unless they are explicitly allowlisted by the user via `torch.serialization.add_safe_globals`. We recommend you start setting `weights_only=True` for any use case where you don't have full control of the loaded file. Please open an issue on GitHub for any issues related to this experimental feature.\n",
      "  model.load_state_dict(torch.load(model_path)['model_state_dict'])\n",
      "Testing: 100%|██████████| 562/562 [01:13<00:00,  7.61it/s]\n"
     ]
    },
    {
     "name": "stdout",
     "output_type": "stream",
     "text": [
      "\n",
      "Test Set Results:\n",
      "--------------------------------------------------\n",
      "\n",
      "Classification Report:\n",
      "              precision    recall  f1-score   support\n",
      "\n",
      "         0.0       0.97      0.92      0.94     31789\n",
      "         1.0       0.55      0.77      0.64      4131\n",
      "\n",
      "    accuracy                           0.90     35920\n",
      "   macro avg       0.76      0.85      0.79     35920\n",
      "weighted avg       0.92      0.90      0.91     35920\n",
      "\n"
     ]
    },
    {
     "data": {
      "image/png": "[encoded data removed]",
      "text/plain": [
       "<Figure size 800x600 with 2 Axes>"
      ]
     },
     "metadata": {},
     "output_type": "display_data"
    }
   ],
   "source": [
    "results_downsampled_experiment = evaluate_and_visualize(\n",
    "    model_path='/home/karthik_arun/ml/cyberbullying_checkpoints/downsampled-data-no-aug/best_checkpoint.pt',\n",
    "    test_loader=test_loader,\n",
    "    device=device\n",
    ")"
   ]
  },
  {
   "cell_type": "markdown",
   "metadata": {},
   "source": [
    "## Model exporting to ONNX and inference checks"
   ]
  },
  {
   "cell_type": "code",
   "execution_count": 84,
   "metadata": {},
   "outputs": [],
   "source": [
    "def export_to_onnx(model, tokenizer, output_path=\"cyberbullying_model.onnx\"):\n",
    "\n",
    "    model.eval()\n",
    "    dummy_input = tokenizer(\n",
    "        \"This is a sample text\",\n",
    "        padding='max_length',\n",
    "        truncation=True,\n",
    "        max_length=128,\n",
    "        return_tensors='pt'\n",
    "    )\n",
    "    \n",
    "    input_ids = dummy_input['input_ids'].to(model.bert.device)\n",
    "    attention_mask = dummy_input['attention_mask'].to(model.bert.device)\n",
    "    \n",
    "    torch.onnx.export(\n",
    "        model,                                   \n",
    "        (input_ids, attention_mask),             \n",
    "        output_path,                            \n",
    "        export_params=True,                      \n",
    "        opset_version=14,                        \n",
    "        do_constant_folding=True,                \n",
    "        input_names=['input_ids',                \n",
    "                    'attention_mask'],\n",
    "        output_names=['output'],                 \n",
    "        dynamic_axes={                           \n",
    "            'input_ids': {0: 'batch_size'},\n",
    "            'attention_mask': {0: 'batch_size'},\n",
    "            'output': {0: 'batch_size'}\n",
    "        }\n",
    "    )\n",
    "    print(f\"Model exported to {output_path}\")\n"
   ]
  },
  {
   "cell_type": "code",
   "execution_count": 85,
   "metadata": {},
   "outputs": [
    {
     "name": "stdout",
     "output_type": "stream",
     "text": [
      "Model exported to cyberbullying_model.onnx\n"
     ]
    }
   ],
   "source": [
    "export_to_onnx(model, tokenizer)"
   ]
  },
  {
   "cell_type": "code",
   "execution_count": 126,
   "metadata": {},
   "outputs": [],
   "source": [
    "def verify_onnx_model(onnx_path):\n",
    "    model = onnx.load(onnx_path)\n",
    "    onnx.checker.check_model(model)\n",
    "    print(\"ONNX model verified successfully!\")\n",
    "    \n",
    "    for input in model.graph.input:\n",
    "        print(f\"Input: {input.name}, Shape: {[d.dim_value for d in input.type.tensor_type.shape.dim]}\")\n",
    "    for output in model.graph.output:\n",
    "        print(f\"Output: {output.name}, Shape: {[d.dim_value for d in output.type.tensor_type.shape.dim]}\")\n"
   ]
  },
  {
   "cell_type": "code",
   "execution_count": 127,
   "metadata": {},
   "outputs": [
    {
     "name": "stdout",
     "output_type": "stream",
     "text": [
      "ONNX model verified successfully!\n",
      "Input: input_ids, Shape: [0, 128]\n",
      "Input: attention_mask, Shape: [0, 128]\n",
      "Output: output, Shape: [0, 1]\n"
     ]
    }
   ],
   "source": [
    "verify_onnx_model(\"cyberbullying_model.onnx\")"
   ]
  },
  {
   "cell_type": "code",
   "execution_count": 128,
   "metadata": {},
   "outputs": [],
   "source": [
    "def initialize_inference(onnx_path):\n",
    "    session = ort.InferenceSession(\n",
    "        onnx_path,\n",
    "        providers=['CUDAExecutionProvider', 'CPUExecutionProvider']\n",
    "    )\n",
    "    return session"
   ]
  },
  {
   "cell_type": "code",
   "execution_count": 129,
   "metadata": {},
   "outputs": [
    {
     "name": "stderr",
     "output_type": "stream",
     "text": [
      "/home/karthik_arun/tf/lib/python3.10/site-packages/onnxruntime/capi/onnxruntime_inference_collection.py:115: UserWarning: Specified provider 'CUDAExecutionProvider' is not in available provider names.Available providers: 'AzureExecutionProvider, CPUExecutionProvider'\n",
      "  warnings.warn(\n"
     ]
    }
   ],
   "source": [
    "session = initialize_inference(\"cyberbullying_model.onnx\")"
   ]
  },
  {
   "cell_type": "code",
   "execution_count": 130,
   "metadata": {},
   "outputs": [],
   "source": [
    "def predict_text(text, session, tokenizer):\n",
    "    inputs = tokenizer(\n",
    "        text,\n",
    "        padding='max_length',\n",
    "        truncation=True,\n",
    "        max_length=128,\n",
    "        return_tensors='pt'\n",
    "    )\n",
    "    \n",
    "    ort_inputs = {\n",
    "        'input_ids': inputs['input_ids'].numpy(),\n",
    "        'attention_mask': inputs['attention_mask'].numpy()\n",
    "    }\n",
    "    \n",
    "    ort_outputs = session.run(None, ort_inputs)\n",
    "    probabilities = 1 / (1 + np.exp(-ort_outputs[0]))\n",
    "    predictions = (probabilities > 0.5).astype(int)\n",
    "    \n",
    "    return predictions, probabilities\n"
   ]
  },
  {
   "cell_type": "code",
   "execution_count": 131,
   "metadata": {},
   "outputs": [],
   "source": [
    "test_texts = [\n",
    "    \"You are awesome!\",\n",
    "    \"stfu clown\",\n",
    "    \"Have a great day\"\n",
    "]"
   ]
  },
  {
   "cell_type": "code",
   "execution_count": 132,
   "metadata": {},
   "outputs": [
    {
     "name": "stdout",
     "output_type": "stream",
     "text": [
      "\n",
      "Text: You are awesome!\n",
      "Prediction: Non-toxic\n",
      "Confidence: 0.1578\n",
      "\n",
      "Text: stfu clown\n",
      "Prediction: Toxic\n",
      "Confidence: 0.6804\n",
      "\n",
      "Text: Have a great day\n",
      "Prediction: Non-toxic\n",
      "Confidence: 0.1270\n"
     ]
    }
   ],
   "source": [
    "for text in test_texts:\n",
    "    pred, prob = predict_text(text, session, tokenizer)\n",
    "    print(f\"\\nText: {text}\")\n",
    "    print(f\"Prediction: {'Toxic' if pred[0] == 1 else 'Non-toxic'}\")\n",
    "    print(f\"Confidence: {prob[0][0]:.4f}\")"
   ]
  },
  {
   "cell_type": "code",
   "execution_count": null,
   "metadata": {},
   "outputs": [],
   "source": []
  }
 ],
 "metadata": {
  "kernelspec": {
   "display_name": "AggressionDetector",
   "language": "python",
   "name": "python3"
  },
  "language_info": {
   "codemirror_mode": {
    "name": "ipython",
    "version": 3
   },
   "file_extension": ".py",
   "mimetype": "text/x-python",
   "name": "python",
   "nbconvert_exporter": "python",
   "pygments_lexer": "ipython3",
   "version": "3.10.12"
  }
 },
 "nbformat": 4,
 "nbformat_minor": 2
}
